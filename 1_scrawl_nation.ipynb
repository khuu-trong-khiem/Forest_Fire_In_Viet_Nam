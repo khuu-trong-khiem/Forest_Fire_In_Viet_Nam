{
 "cells": [
  {
   "cell_type": "code",
   "execution_count": 1,
   "metadata": {},
   "outputs": [],
   "source": [
    "from selenium import webdriver\n",
    "from bs4 import BeautifulSoup"
   ]
  },
  {
   "cell_type": "code",
   "execution_count": 2,
   "metadata": {},
   "outputs": [],
   "source": [
    "import pandas as pd\n",
    "from time import sleep\n",
    "from lib_parse_data import *"
   ]
  },
  {
   "cell_type": "code",
   "execution_count": 3,
   "metadata": {},
   "outputs": [],
   "source": [
    "url = 'http://firewatchvn.kiemlam.org.vn/thong-ke'\n",
    "browser = webdriver.Chrome(r'D:\\Back Up\\sutrix\\Python\\EXE\\chromedriver.exe')\n",
    "browser.get(url)"
   ]
  },
  {
   "cell_type": "code",
   "execution_count": 4,
   "metadata": {},
   "outputs": [],
   "source": [
    "soup = BeautifulSoup(browser.page_source, 'html.parser')"
   ]
  },
  {
   "cell_type": "code",
   "execution_count": 5,
   "metadata": {},
   "outputs": [
    {
     "data": {
      "text/plain": [
       "<table class=\"table table-bordered\"><thead><tr><th>#</th><th>Tháng</th><th>Số điểm cháy</th></tr></thead><tbody><tr></tr><tr><td>1</td><td>1</td><td>7188</td></tr><tr><td>2</td><td>2</td><td>36146</td></tr><tr><td>3</td><td>3</td><td>4637</td></tr><tr><td>4</td><td>4</td><td>2689</td></tr><tr><td>5</td><td>5</td><td>7658</td></tr><tr><td>6</td><td>6</td><td>1733</td></tr><tr><td>7</td><td>7</td><td>59</td></tr><tr><td>8</td><td>8</td><td>314</td></tr></tbody></table>"
      ]
     },
     "execution_count": 5,
     "metadata": {},
     "output_type": "execute_result"
    }
   ],
   "source": [
    "table = soup.find_all('table', attrs={'class':'table table-bordered'})[0]\n",
    "table"
   ]
  },
  {
   "cell_type": "code",
   "execution_count": 6,
   "metadata": {},
   "outputs": [
    {
     "name": "stdout",
     "output_type": "stream",
     "text": [
      "Hình thức thống kê: \n",
      "khuvuc  -  Vườn quốc gia (chủ rừng)\n",
      "loairung  -  Loại rừng (theo chức năng)\n",
      "diaphuong  -  Địa phương\n",
      "thang  -  Theo mùa (tháng)\n",
      "nhieunam  -  Theo nhiều năm\n"
     ]
    }
   ],
   "source": [
    "title_chiso, dict_chiso = parseSelect(soup, 'fw-chiso')\n",
    "print(title_chiso)\n",
    "for k, v in dict_chiso.items():\n",
    "    print(k, ' - ', v)\n",
    "df = pd.DataFrame(data={\n",
    "    'Format': list(dict_chiso.keys()),\n",
    "    'Infomation': list(dict_chiso.values())\n",
    "})\n",
    "df.to_csv('data_original/toan_quoc/Format_Forest.csv')"
   ]
  },
  {
   "cell_type": "code",
   "execution_count": 7,
   "metadata": {},
   "outputs": [
    {
     "name": "stdout",
     "output_type": "stream",
     "text": [
      "Năm thống kê: \n",
      "2020  -  2020\n",
      "2019  -  2019\n",
      "2018  -  2018\n",
      "2017  -  2017\n",
      "2016  -  2016\n",
      "2015  -  2015\n",
      "2014  -  2014\n",
      "2013  -  2013\n",
      "2012  -  2012\n",
      "2011  -  2011\n"
     ]
    }
   ],
   "source": [
    "title_namtk, dict_namtk = parseSelect(soup, 'fw-namtk1')\n",
    "print(title_namtk)\n",
    "for k, v in dict_namtk.items():\n",
    "    print(k, ' - ', v)\n",
    "df = pd.DataFrame(data={\n",
    "    'Key': list(dict_namtk.keys()),\n",
    "    'Value': list(dict_namtk.values())\n",
    "})\n",
    "df.to_csv('data_original/toan_quoc/Years_Forest.csv')"
   ]
  },
  {
   "cell_type": "code",
   "execution_count": 8,
   "metadata": {},
   "outputs": [],
   "source": [
    "chiso_element = browser.find_element_by_id('schiso')\n",
    "year_element = browser.find_element_by_id('snamtk-1')\n",
    "button_element = browser.find_element_by_id('fw-thongke-btsearch')"
   ]
  },
  {
   "cell_type": "code",
   "execution_count": 9,
   "metadata": {
    "scrolled": false
   },
   "outputs": [
    {
     "name": "stdout",
     "output_type": "stream",
     "text": [
      "data_original/toan_quoc/khuvuc_2020.csv\n",
      "data_original/toan_quoc/khuvuc_2019.csv\n",
      "data_original/toan_quoc/khuvuc_2018.csv\n",
      "data_original/toan_quoc/khuvuc_2017.csv\n",
      "data_original/toan_quoc/khuvuc_2016.csv\n",
      "data_original/toan_quoc/khuvuc_2015.csv\n",
      "data_original/toan_quoc/khuvuc_2014.csv\n",
      "data_original/toan_quoc/khuvuc_2013.csv\n",
      "data_original/toan_quoc/khuvuc_2012.csv\n",
      "data_original/toan_quoc/khuvuc_2011.csv\n",
      "data_original/toan_quoc/loairung_2020.csv\n",
      "data_original/toan_quoc/loairung_2019.csv\n",
      "data_original/toan_quoc/loairung_2018.csv\n",
      "data_original/toan_quoc/loairung_2017.csv\n",
      "data_original/toan_quoc/loairung_2016.csv\n",
      "data_original/toan_quoc/loairung_2015.csv\n",
      "data_original/toan_quoc/loairung_2014.csv\n",
      "data_original/toan_quoc/loairung_2013.csv\n",
      "data_original/toan_quoc/loairung_2012.csv\n",
      "data_original/toan_quoc/loairung_2011.csv\n",
      "data_original/toan_quoc/diaphuong_2020.csv\n",
      "data_original/toan_quoc/diaphuong_2019.csv\n",
      "data_original/toan_quoc/diaphuong_2018.csv\n",
      "data_original/toan_quoc/diaphuong_2017.csv\n",
      "data_original/toan_quoc/diaphuong_2016.csv\n",
      "data_original/toan_quoc/diaphuong_2015.csv\n",
      "data_original/toan_quoc/diaphuong_2014.csv\n",
      "data_original/toan_quoc/diaphuong_2013.csv\n",
      "data_original/toan_quoc/diaphuong_2012.csv\n",
      "data_original/toan_quoc/diaphuong_2011.csv\n",
      "data_original/toan_quoc/thang_2020.csv\n",
      "data_original/toan_quoc/thang_2019.csv\n",
      "data_original/toan_quoc/thang_2018.csv\n",
      "data_original/toan_quoc/thang_2017.csv\n",
      "data_original/toan_quoc/thang_2016.csv\n",
      "data_original/toan_quoc/thang_2015.csv\n",
      "data_original/toan_quoc/thang_2014.csv\n",
      "data_original/toan_quoc/thang_2013.csv\n",
      "data_original/toan_quoc/thang_2012.csv\n",
      "data_original/toan_quoc/thang_2011.csv\n",
      "data_original/toan_quoc/nhieunam_2020.csv\n",
      "data_original/toan_quoc/nhieunam_2019.csv\n",
      "data_original/toan_quoc/nhieunam_2018.csv\n",
      "data_original/toan_quoc/nhieunam_2017.csv\n",
      "data_original/toan_quoc/nhieunam_2016.csv\n",
      "data_original/toan_quoc/nhieunam_2015.csv\n",
      "data_original/toan_quoc/nhieunam_2014.csv\n",
      "data_original/toan_quoc/nhieunam_2013.csv\n",
      "data_original/toan_quoc/nhieunam_2012.csv\n",
      "data_original/toan_quoc/nhieunam_2011.csv\n"
     ]
    }
   ],
   "source": [
    "df = None\n",
    "for key_chiso in dict_chiso.keys():\n",
    "    setAttribute(browser, 'schiso', key_chiso)\n",
    "    button_element.click()\n",
    "    browser.implicitly_wait(30)\n",
    "    sleep(10)\n",
    "    for key_namtk in dict_namtk.keys():\n",
    "        setAttribute(browser, 'snamtk-1', key_namtk)\n",
    "        button_element.click()\n",
    "        browser.implicitly_wait(30)\n",
    "        sleep(10)\n",
    "        # -----------\n",
    "        file_name = 'data_original/toan_quoc/' + key_chiso + '_' + key_namtk + '.csv'\n",
    "        soup = BeautifulSoup(browser.page_source, 'html.parser')\n",
    "        table = soup.find_all('table', attrs={'class':'table table-bordered'})[0]\n",
    "        df = parseData(table)\n",
    "        df.to_csv(file_name)\n",
    "        print(file_name)"
   ]
  },
  {
   "cell_type": "code",
   "execution_count": 10,
   "metadata": {},
   "outputs": [],
   "source": [
    "browser.quit()"
   ]
  }
 ],
 "metadata": {
  "kernelspec": {
   "display_name": "Python 3",
   "language": "python",
   "name": "python3"
  },
  "language_info": {
   "codemirror_mode": {
    "name": "ipython",
    "version": 3
   },
   "file_extension": ".py",
   "mimetype": "text/x-python",
   "name": "python",
   "nbconvert_exporter": "python",
   "pygments_lexer": "ipython3",
   "version": "3.7.6"
  }
 },
 "nbformat": 4,
 "nbformat_minor": 4
}
