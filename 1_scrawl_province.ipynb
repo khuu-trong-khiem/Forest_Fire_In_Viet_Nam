{
 "cells": [
  {
   "cell_type": "code",
   "execution_count": 1,
   "metadata": {},
   "outputs": [],
   "source": [
    "from selenium import webdriver\n",
    "from bs4 import BeautifulSoup"
   ]
  },
  {
   "cell_type": "code",
   "execution_count": 2,
   "metadata": {},
   "outputs": [],
   "source": [
    "import pandas as pd\n",
    "from time import sleep\n",
    "from lib_parse_data import *"
   ]
  },
  {
   "cell_type": "code",
   "execution_count": 3,
   "metadata": {},
   "outputs": [],
   "source": [
    "from selenium.webdriver.common.by import By\n",
    "from selenium.webdriver.support.ui import WebDriverWait\n",
    "from selenium.webdriver.support import expected_conditions as EC"
   ]
  },
  {
   "cell_type": "code",
   "execution_count": 4,
   "metadata": {},
   "outputs": [],
   "source": [
    "url = 'http://firewatchvn.kiemlam.org.vn/thong-ke'\n",
    "browser = webdriver.Chrome(r'D:\\Back Up\\sutrix\\Python\\EXE\\chromedriver.exe')\n",
    "browser.get(url)"
   ]
  },
  {
   "cell_type": "code",
   "execution_count": 5,
   "metadata": {},
   "outputs": [],
   "source": [
    "element = browser.find_element_by_xpath('//a[contains(@href, \"#sosanh\")]')\n",
    "browser.execute_script(\"arguments[0].click();\", element)\n",
    "browser.implicitly_wait(30)\n",
    "sleep(10)"
   ]
  },
  {
   "cell_type": "code",
   "execution_count": 6,
   "metadata": {},
   "outputs": [],
   "source": [
    "button_element = browser.find_element_by_id('fw-sosanh-btsearch')"
   ]
  },
  {
   "cell_type": "code",
   "execution_count": 7,
   "metadata": {},
   "outputs": [
    {
     "data": {
      "text/plain": [
       "<table class=\"table table-bordered\"><thead><tr><th>#</th><th>Tháng</th><th>Số điểm cháy</th></tr></thead><tbody><tr></tr><tr><td>1</td><td>1</td><td>345</td></tr><tr><td>2</td><td>2</td><td>2153</td></tr><tr><td>3</td><td>3</td><td>874</td></tr><tr><td>4</td><td>4</td><td>230</td></tr><tr><td>5</td><td>5</td><td>88</td></tr><tr><td>6</td><td>6</td><td>3</td></tr></tbody></table>"
      ]
     },
     "execution_count": 7,
     "metadata": {},
     "output_type": "execute_result"
    }
   ],
   "source": [
    "soup = BeautifulSoup(browser.page_source, 'html.parser')\n",
    "table = soup.find_all('table', attrs={'class':'table table-bordered'})[0]\n",
    "table"
   ]
  },
  {
   "cell_type": "code",
   "execution_count": 8,
   "metadata": {},
   "outputs": [
    {
     "data": {
      "text/html": [
       "<div>\n",
       "<style scoped>\n",
       "    .dataframe tbody tr th:only-of-type {\n",
       "        vertical-align: middle;\n",
       "    }\n",
       "\n",
       "    .dataframe tbody tr th {\n",
       "        vertical-align: top;\n",
       "    }\n",
       "\n",
       "    .dataframe thead th {\n",
       "        text-align: right;\n",
       "    }\n",
       "</style>\n",
       "<table border=\"1\" class=\"dataframe\">\n",
       "  <thead>\n",
       "    <tr style=\"text-align: right;\">\n",
       "      <th></th>\n",
       "      <th>#</th>\n",
       "      <th>Tháng</th>\n",
       "      <th>Số điểm cháy</th>\n",
       "    </tr>\n",
       "  </thead>\n",
       "  <tbody>\n",
       "    <tr>\n",
       "      <th>0</th>\n",
       "      <td>1</td>\n",
       "      <td>1</td>\n",
       "      <td>345</td>\n",
       "    </tr>\n",
       "    <tr>\n",
       "      <th>1</th>\n",
       "      <td>2</td>\n",
       "      <td>2</td>\n",
       "      <td>2153</td>\n",
       "    </tr>\n",
       "    <tr>\n",
       "      <th>2</th>\n",
       "      <td>3</td>\n",
       "      <td>3</td>\n",
       "      <td>874</td>\n",
       "    </tr>\n",
       "    <tr>\n",
       "      <th>3</th>\n",
       "      <td>4</td>\n",
       "      <td>4</td>\n",
       "      <td>230</td>\n",
       "    </tr>\n",
       "    <tr>\n",
       "      <th>4</th>\n",
       "      <td>5</td>\n",
       "      <td>5</td>\n",
       "      <td>88</td>\n",
       "    </tr>\n",
       "    <tr>\n",
       "      <th>5</th>\n",
       "      <td>6</td>\n",
       "      <td>6</td>\n",
       "      <td>3</td>\n",
       "    </tr>\n",
       "  </tbody>\n",
       "</table>\n",
       "</div>"
      ],
      "text/plain": [
       "   # Tháng Số điểm cháy\n",
       "0  1     1          345\n",
       "1  2     2         2153\n",
       "2  3     3          874\n",
       "3  4     4          230\n",
       "4  5     5           88\n",
       "5  6     6            3"
      ]
     },
     "execution_count": 8,
     "metadata": {},
     "output_type": "execute_result"
    }
   ],
   "source": [
    "df = parseData(table)\n",
    "df"
   ]
  },
  {
   "cell_type": "code",
   "execution_count": 9,
   "metadata": {
    "scrolled": false
   },
   "outputs": [
    {
     "name": "stdout",
     "output_type": "stream",
     "text": [
      "89  -  An Giang\n",
      "24  -  Bắc Giang\n",
      "06  -  Bắc Kạn\n",
      "95  -  Bạc Liêu\n",
      "27  -  Bắc Ninh\n",
      "77  -  Bà Rịa-Vũng Tàu\n",
      "83  -  Bến Tre\n",
      "52  -  Bình Định\n",
      "74  -  Bình Dương\n",
      "70  -  Bình Phước\n",
      "60  -  Bình Thuận\n",
      "96  -  Cà Mau\n",
      "92  -  Cần Thơ\n",
      "04  -  Cao Bằng\n",
      "66  -  Đắk Lắk\n",
      "67  -  Đắk Nông\n",
      "48  -  Đà Nẵng\n",
      "11  -  Điện Biên\n",
      "75  -  Đồng Nai\n",
      "87  -  Đồng Tháp\n",
      "64  -  Gia Lai\n",
      "02  -  Hà Giang\n",
      "30  -  Hải Dương\n",
      "31  -  Hải Phòng\n",
      "35  -  Hà Nam\n",
      "01  -  Hà Nội\n",
      "42  -  Hà Tĩnh\n",
      "93  -  Hậu Giang\n",
      "17  -  Hòa Bình\n",
      "79  -  Hồ Chí Minh\n",
      "33  -  Hưng Yên\n",
      "56  -  Khánh Hòa\n",
      "91  -  Kiên Giang\n",
      "62  -  Kon Tum\n",
      "12  -  Lai Châu\n",
      "68  -  Lâm Đồng\n",
      "20  -  Lạng Sơn\n",
      "10  -  Lào Cai\n",
      "80  -  Long An\n",
      "36  -  Nam Định\n",
      "40  -  Nghệ An\n",
      "37  -  Ninh Bình\n",
      "58  -  Ninh Thuận\n",
      "25  -  Phú Thọ\n",
      "54  -  Phú Yên\n",
      "44  -  Quảng Bình\n",
      "49  -  Quảng Nam\n",
      "51  -  Quảng Ngãi\n",
      "22  -  Quảng Ninh\n",
      "45  -  Quảng Trị\n",
      "94  -  Sóc Trăng\n",
      "14  -  Sơn La\n",
      "72  -  Tây Ninh\n",
      "34  -  Thái Bình\n",
      "19  -  Thái Nguyên\n",
      "38  -  Thanh Hoá\n",
      "46  -  Thừa Thiên Huế\n",
      "82  -  Tiền Giang\n",
      "84  -  Trà Vinh\n",
      "08  -  Tuyên Quang\n",
      "86  -  Vĩnh Long\n",
      "26  -  Vĩnh Phúc\n",
      "15  -  Yên Bái\n"
     ]
    }
   ],
   "source": [
    "title_tinh, dict_tinh = parseSelect(soup, 'fw-tinh')\n",
    "dict_tinh.pop('0')\n",
    "for k, v in dict_tinh.items():\n",
    "    print(k, ' - ', v)\n",
    "df = pd.DataFrame(data={\n",
    "    'Code': list(dict_tinh.keys()),\n",
    "    'Name': list(dict_tinh.values())\n",
    "})\n",
    "df.to_csv('data_original/theo_tinh/Tinh_Forest.csv')"
   ]
  },
  {
   "cell_type": "code",
   "execution_count": 10,
   "metadata": {},
   "outputs": [
    {
     "name": "stdout",
     "output_type": "stream",
     "text": [
      "Năm thống kê: \n",
      "2020  -  2020\n",
      "2019  -  2019\n",
      "2018  -  2018\n",
      "2017  -  2017\n",
      "2016  -  2016\n",
      "2015  -  2015\n",
      "2014  -  2014\n",
      "2013  -  2013\n",
      "2012  -  2012\n",
      "2011  -  2011\n"
     ]
    }
   ],
   "source": [
    "title_namtk, dict_namtk = parseSelect(soup, 'fw-namtk2')\n",
    "print(title_namtk)\n",
    "for k, v in dict_namtk.items():\n",
    "    print(k, ' - ', v)\n",
    "df = pd.DataFrame(data={\n",
    "    'Key': list(dict_namtk.keys()),\n",
    "    'Value': list(dict_namtk.values())\n",
    "})\n",
    "df.to_csv('data_original/theo_tinh/Years_Forest.csv')"
   ]
  },
  {
   "cell_type": "code",
   "execution_count": 11,
   "metadata": {},
   "outputs": [
    {
     "name": "stdout",
     "output_type": "stream",
     "text": [
      "Hình thức thống kê: \n",
      "thang  -  Tháng\n",
      "diaphuong  -  Địa phương\n"
     ]
    }
   ],
   "source": [
    "title_thongke, dict_thongke = parseSelect(soup, 'fw-thongke-2')\n",
    "print(title_thongke)\n",
    "for k, v in dict_thongke.items():\n",
    "    print(k, ' - ', v)\n",
    "df = pd.DataFrame(data={\n",
    "    'Type': list(dict_thongke.keys()),\n",
    "    'Name': list(dict_thongke.values())\n",
    "})\n",
    "df.to_csv('data_original/theo_tinh/ThongKe_Forest.csv')"
   ]
  },
  {
   "cell_type": "code",
   "execution_count": null,
   "metadata": {
    "scrolled": true
   },
   "outputs": [
    {
     "name": "stdout",
     "output_type": "stream",
     "text": [
      "data_original/theo_tinh/thang_89_2020.csv\n"
     ]
    }
   ],
   "source": [
    "for key_thongke in dict_thongke.keys():\n",
    "    setAttribute(browser, 'schiso2', key_thongke)\n",
    "    for key_tinh in dict_tinh.keys():\n",
    "        setAttribute(browser, 'stinh', key_tinh)\n",
    "        for key_namtk in dict_namtk.keys():\n",
    "            setAttribute(browser, 'snamtk-2', key_namtk)\n",
    "            button_element.click()\n",
    "            browser.implicitly_wait(30)\n",
    "            sleep(10)\n",
    "            # -------------\n",
    "            file_name = 'data_original/theo_tinh/' + key_thongke + '_' + key_tinh + '_' + key_namtk + '.csv'\n",
    "            soup = BeautifulSoup(browser.page_source, 'html.parser')\n",
    "            table = soup.find_all('table', attrs={'class':'table table-bordered'})[0]\n",
    "            df = parseData(table)\n",
    "            df.to_csv(file_name)\n",
    "            print(file_name)"
   ]
  },
  {
   "cell_type": "code",
   "execution_count": null,
   "metadata": {},
   "outputs": [],
   "source": [
    "browser.quit()"
   ]
  },
  {
   "cell_type": "code",
   "execution_count": null,
   "metadata": {},
   "outputs": [],
   "source": []
  }
 ],
 "metadata": {
  "kernelspec": {
   "display_name": "Python 3",
   "language": "python",
   "name": "python3"
  },
  "language_info": {
   "codemirror_mode": {
    "name": "ipython",
    "version": 3
   },
   "file_extension": ".py",
   "mimetype": "text/x-python",
   "name": "python",
   "nbconvert_exporter": "python",
   "pygments_lexer": "ipython3",
   "version": "3.7.6"
  }
 },
 "nbformat": 4,
 "nbformat_minor": 4
}
