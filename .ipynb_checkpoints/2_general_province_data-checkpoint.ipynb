{
 "cells": [
  {
   "cell_type": "code",
   "execution_count": 1,
   "metadata": {},
   "outputs": [],
   "source": [
    "import pandas as pd\n",
    "import glob\n",
    "import re"
   ]
  },
  {
   "cell_type": "markdown",
   "metadata": {},
   "source": [
    "### Gộp dự liệu theo địa phương"
   ]
  },
  {
   "cell_type": "code",
   "execution_count": 2,
   "metadata": {},
   "outputs": [
    {
     "data": {
      "text/plain": [
       "['data_original/theo_tinh\\\\diaphuong_01_2011.csv',\n",
       " 'data_original/theo_tinh\\\\diaphuong_01_2012.csv',\n",
       " 'data_original/theo_tinh\\\\diaphuong_01_2013.csv',\n",
       " 'data_original/theo_tinh\\\\diaphuong_01_2014.csv',\n",
       " 'data_original/theo_tinh\\\\diaphuong_01_2015.csv']"
      ]
     },
     "execution_count": 2,
     "metadata": {},
     "output_type": "execute_result"
    }
   ],
   "source": [
    "all_files = glob.glob(\"data_original/theo_tinh/diaphuong*.csv\")\n",
    "all_files[0:5]"
   ]
  },
  {
   "cell_type": "code",
   "execution_count": 3,
   "metadata": {},
   "outputs": [],
   "source": [
    "data = pd.DataFrame(columns=['Ma_Tinh', 'Ten_Huyen', 'So_Diem_Chay', 'Nam'])"
   ]
  },
  {
   "cell_type": "code",
   "execution_count": 4,
   "metadata": {},
   "outputs": [],
   "source": [
    "for file in all_files:\n",
    "    name_file = re.findall('diaphuong_\\d+_\\d+.csv', file)\n",
    "    maTinh = re.findall('_\\d+_', name_file[0])[0].replace('_', '')\n",
    "    year = re.findall('\\d+.csv', name_file[0])[0].replace('.csv', '')\n",
    "    df = pd.read_csv(file, index_col=0)\n",
    "    df = df.rename(columns={\n",
    "        'Tên huyện': 'Ten_Huyen', \n",
    "        'Số điểm cháy': 'So_Diem_Chay'\n",
    "    })\n",
    "    df['Nam'] = int(year)\n",
    "    df['Ma_Tinh'] = int(maTinh)\n",
    "    df.pop(\"#\")\n",
    "    data = data.append(df)\n",
    "    data.append(df)"
   ]
  },
  {
   "cell_type": "code",
   "execution_count": 5,
   "metadata": {},
   "outputs": [
    {
     "data": {
      "text/html": [
       "<div>\n",
       "<style scoped>\n",
       "    .dataframe tbody tr th:only-of-type {\n",
       "        vertical-align: middle;\n",
       "    }\n",
       "\n",
       "    .dataframe tbody tr th {\n",
       "        vertical-align: top;\n",
       "    }\n",
       "\n",
       "    .dataframe thead th {\n",
       "        text-align: right;\n",
       "    }\n",
       "</style>\n",
       "<table border=\"1\" class=\"dataframe\">\n",
       "  <thead>\n",
       "    <tr style=\"text-align: right;\">\n",
       "      <th></th>\n",
       "      <th>Ma_Tinh</th>\n",
       "      <th>Ten_Huyen</th>\n",
       "      <th>So_Diem_Chay</th>\n",
       "      <th>Nam</th>\n",
       "    </tr>\n",
       "  </thead>\n",
       "  <tbody>\n",
       "    <tr>\n",
       "      <th>0</th>\n",
       "      <td>1</td>\n",
       "      <td>Thạch Thất</td>\n",
       "      <td>1</td>\n",
       "      <td>2011</td>\n",
       "    </tr>\n",
       "    <tr>\n",
       "      <th>1</th>\n",
       "      <td>1</td>\n",
       "      <td>Thạch Thất</td>\n",
       "      <td>1</td>\n",
       "      <td>2012</td>\n",
       "    </tr>\n",
       "    <tr>\n",
       "      <th>2</th>\n",
       "      <td>1</td>\n",
       "      <td>Thạch Thất</td>\n",
       "      <td>1</td>\n",
       "      <td>2013</td>\n",
       "    </tr>\n",
       "    <tr>\n",
       "      <th>3</th>\n",
       "      <td>1</td>\n",
       "      <td>Thạch Thất</td>\n",
       "      <td>1</td>\n",
       "      <td>2014</td>\n",
       "    </tr>\n",
       "    <tr>\n",
       "      <th>4</th>\n",
       "      <td>1</td>\n",
       "      <td>Ba Vì</td>\n",
       "      <td>1</td>\n",
       "      <td>2014</td>\n",
       "    </tr>\n",
       "    <tr>\n",
       "      <th>...</th>\n",
       "      <td>...</td>\n",
       "      <td>...</td>\n",
       "      <td>...</td>\n",
       "      <td>...</td>\n",
       "    </tr>\n",
       "    <tr>\n",
       "      <th>5098</th>\n",
       "      <td>96</td>\n",
       "      <td>Ngọc Hiển</td>\n",
       "      <td>13</td>\n",
       "      <td>2020</td>\n",
       "    </tr>\n",
       "    <tr>\n",
       "      <th>5099</th>\n",
       "      <td>96</td>\n",
       "      <td>Cà Mau</td>\n",
       "      <td>46</td>\n",
       "      <td>2020</td>\n",
       "    </tr>\n",
       "    <tr>\n",
       "      <th>5100</th>\n",
       "      <td>96</td>\n",
       "      <td>Cái Nước</td>\n",
       "      <td>2</td>\n",
       "      <td>2020</td>\n",
       "    </tr>\n",
       "    <tr>\n",
       "      <th>5101</th>\n",
       "      <td>96</td>\n",
       "      <td>Năm Căn</td>\n",
       "      <td>4</td>\n",
       "      <td>2020</td>\n",
       "    </tr>\n",
       "    <tr>\n",
       "      <th>5102</th>\n",
       "      <td>96</td>\n",
       "      <td>Trần Văn Thời</td>\n",
       "      <td>370</td>\n",
       "      <td>2020</td>\n",
       "    </tr>\n",
       "  </tbody>\n",
       "</table>\n",
       "<p>5103 rows × 4 columns</p>\n",
       "</div>"
      ],
      "text/plain": [
       "     Ma_Tinh      Ten_Huyen So_Diem_Chay   Nam\n",
       "0          1     Thạch Thất            1  2011\n",
       "1          1     Thạch Thất            1  2012\n",
       "2          1     Thạch Thất            1  2013\n",
       "3          1     Thạch Thất            1  2014\n",
       "4          1          Ba Vì            1  2014\n",
       "...      ...            ...          ...   ...\n",
       "5098      96      Ngọc Hiển           13  2020\n",
       "5099      96         Cà Mau           46  2020\n",
       "5100      96       Cái Nước            2  2020\n",
       "5101      96        Năm Căn            4  2020\n",
       "5102      96  Trần Văn Thời          370  2020\n",
       "\n",
       "[5103 rows x 4 columns]"
      ]
     },
     "execution_count": 5,
     "metadata": {},
     "output_type": "execute_result"
    }
   ],
   "source": [
    "data = data[data.Ma_Tinh != 0]\n",
    "data = data.reset_index(drop=True) \n",
    "data"
   ]
  },
  {
   "cell_type": "code",
   "execution_count": 6,
   "metadata": {},
   "outputs": [],
   "source": [
    "data.to_csv('data_preprocessing/general_province_area.csv')"
   ]
  },
  {
   "cell_type": "markdown",
   "metadata": {},
   "source": [
    "### Gộp dự liệu theo tháng"
   ]
  },
  {
   "cell_type": "code",
   "execution_count": 7,
   "metadata": {},
   "outputs": [
    {
     "data": {
      "text/plain": [
       "['data_original/theo_tinh\\\\thang_01_2011.csv',\n",
       " 'data_original/theo_tinh\\\\thang_01_2012.csv',\n",
       " 'data_original/theo_tinh\\\\thang_01_2013.csv',\n",
       " 'data_original/theo_tinh\\\\thang_01_2014.csv',\n",
       " 'data_original/theo_tinh\\\\thang_01_2015.csv']"
      ]
     },
     "execution_count": 7,
     "metadata": {},
     "output_type": "execute_result"
    }
   ],
   "source": [
    "all_files = glob.glob(\"data_original/theo_tinh/thang*.csv\")\n",
    "all_files[0:5]"
   ]
  },
  {
   "cell_type": "code",
   "execution_count": 8,
   "metadata": {},
   "outputs": [],
   "source": [
    "data = pd.DataFrame(columns=['Ma_Tinh', 'Thang', 'So_Diem_Chay', 'Nam'])"
   ]
  },
  {
   "cell_type": "code",
   "execution_count": 9,
   "metadata": {},
   "outputs": [],
   "source": [
    "for file in all_files:\n",
    "    name_file = re.findall('thang_\\d+_\\d+.csv', file)\n",
    "    maTinh = re.findall('_\\d+_', name_file[0])[0].replace('_', '')\n",
    "    year = re.findall('\\d+.csv', name_file[0])[0].replace('.csv', '')\n",
    "    df = pd.read_csv(file, index_col=0)\n",
    "    df = df.rename(columns={\n",
    "        'Tháng': 'Thang', \n",
    "        'Số điểm cháy': 'So_Diem_Chay'\n",
    "    })\n",
    "    df['Nam'] = int(year)\n",
    "    df['Ma_Tinh'] = int(maTinh)\n",
    "    df.pop(\"#\")\n",
    "    data = data.append(df)\n",
    "    data.append(df)"
   ]
  },
  {
   "cell_type": "code",
   "execution_count": 10,
   "metadata": {},
   "outputs": [
    {
     "data": {
      "text/html": [
       "<div>\n",
       "<style scoped>\n",
       "    .dataframe tbody tr th:only-of-type {\n",
       "        vertical-align: middle;\n",
       "    }\n",
       "\n",
       "    .dataframe tbody tr th {\n",
       "        vertical-align: top;\n",
       "    }\n",
       "\n",
       "    .dataframe thead th {\n",
       "        text-align: right;\n",
       "    }\n",
       "</style>\n",
       "<table border=\"1\" class=\"dataframe\">\n",
       "  <thead>\n",
       "    <tr style=\"text-align: right;\">\n",
       "      <th></th>\n",
       "      <th>Ma_Tinh</th>\n",
       "      <th>Thang</th>\n",
       "      <th>So_Diem_Chay</th>\n",
       "      <th>Nam</th>\n",
       "    </tr>\n",
       "  </thead>\n",
       "  <tbody>\n",
       "    <tr>\n",
       "      <th>0</th>\n",
       "      <td>1</td>\n",
       "      <td>12</td>\n",
       "      <td>1</td>\n",
       "      <td>2011</td>\n",
       "    </tr>\n",
       "    <tr>\n",
       "      <th>1</th>\n",
       "      <td>1</td>\n",
       "      <td>12</td>\n",
       "      <td>1</td>\n",
       "      <td>2012</td>\n",
       "    </tr>\n",
       "    <tr>\n",
       "      <th>2</th>\n",
       "      <td>1</td>\n",
       "      <td>12</td>\n",
       "      <td>1</td>\n",
       "      <td>2013</td>\n",
       "    </tr>\n",
       "    <tr>\n",
       "      <th>3</th>\n",
       "      <td>1</td>\n",
       "      <td>1</td>\n",
       "      <td>1</td>\n",
       "      <td>2014</td>\n",
       "    </tr>\n",
       "    <tr>\n",
       "      <th>4</th>\n",
       "      <td>1</td>\n",
       "      <td>2</td>\n",
       "      <td>1</td>\n",
       "      <td>2014</td>\n",
       "    </tr>\n",
       "    <tr>\n",
       "      <th>...</th>\n",
       "      <td>...</td>\n",
       "      <td>...</td>\n",
       "      <td>...</td>\n",
       "      <td>...</td>\n",
       "    </tr>\n",
       "    <tr>\n",
       "      <th>5002</th>\n",
       "      <td>96</td>\n",
       "      <td>2</td>\n",
       "      <td>413</td>\n",
       "      <td>2020</td>\n",
       "    </tr>\n",
       "    <tr>\n",
       "      <th>5003</th>\n",
       "      <td>96</td>\n",
       "      <td>3</td>\n",
       "      <td>15</td>\n",
       "      <td>2020</td>\n",
       "    </tr>\n",
       "    <tr>\n",
       "      <th>5004</th>\n",
       "      <td>96</td>\n",
       "      <td>4</td>\n",
       "      <td>8</td>\n",
       "      <td>2020</td>\n",
       "    </tr>\n",
       "    <tr>\n",
       "      <th>5005</th>\n",
       "      <td>96</td>\n",
       "      <td>5</td>\n",
       "      <td>9</td>\n",
       "      <td>2020</td>\n",
       "    </tr>\n",
       "    <tr>\n",
       "      <th>5006</th>\n",
       "      <td>96</td>\n",
       "      <td>6</td>\n",
       "      <td>1</td>\n",
       "      <td>2020</td>\n",
       "    </tr>\n",
       "  </tbody>\n",
       "</table>\n",
       "<p>5007 rows × 4 columns</p>\n",
       "</div>"
      ],
      "text/plain": [
       "     Ma_Tinh Thang So_Diem_Chay   Nam\n",
       "0          1    12            1  2011\n",
       "1          1    12            1  2012\n",
       "2          1    12            1  2013\n",
       "3          1     1            1  2014\n",
       "4          1     2            1  2014\n",
       "...      ...   ...          ...   ...\n",
       "5002      96     2          413  2020\n",
       "5003      96     3           15  2020\n",
       "5004      96     4            8  2020\n",
       "5005      96     5            9  2020\n",
       "5006      96     6            1  2020\n",
       "\n",
       "[5007 rows x 4 columns]"
      ]
     },
     "execution_count": 10,
     "metadata": {},
     "output_type": "execute_result"
    }
   ],
   "source": [
    "data = data[data.Ma_Tinh != 0]\n",
    "data = data.reset_index(drop=True) \n",
    "data"
   ]
  },
  {
   "cell_type": "code",
   "execution_count": 11,
   "metadata": {},
   "outputs": [],
   "source": [
    "data.to_csv('data_preprocessing/general_province_month.csv')"
   ]
  },
  {
   "cell_type": "code",
   "execution_count": null,
   "metadata": {},
   "outputs": [],
   "source": []
  }
 ],
 "metadata": {
  "kernelspec": {
   "display_name": "Python 3",
   "language": "python",
   "name": "python3"
  },
  "language_info": {
   "codemirror_mode": {
    "name": "ipython",
    "version": 3
   },
   "file_extension": ".py",
   "mimetype": "text/x-python",
   "name": "python",
   "nbconvert_exporter": "python",
   "pygments_lexer": "ipython3",
   "version": "3.7.6"
  }
 },
 "nbformat": 4,
 "nbformat_minor": 4
}
