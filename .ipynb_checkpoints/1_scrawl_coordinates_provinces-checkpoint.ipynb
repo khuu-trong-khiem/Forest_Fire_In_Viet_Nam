{
 "cells": [
  {
   "cell_type": "markdown",
   "metadata": {},
   "source": [
    "https://vi.wikipedia.org/wiki/T%E1%BB%89nh_th%C3%A0nh_Vi%E1%BB%87t_Nam"
   ]
  },
  {
   "cell_type": "code",
   "execution_count": 1,
   "metadata": {},
   "outputs": [],
   "source": [
    "from selenium import webdriver\n",
    "from bs4 import BeautifulSoup"
   ]
  },
  {
   "cell_type": "code",
   "execution_count": 9,
   "metadata": {},
   "outputs": [],
   "source": [
    "import pandas as pd\n",
    "from time import sleep\n",
    "from lib_parse_data import *"
   ]
  },
  {
   "cell_type": "code",
   "execution_count": 24,
   "metadata": {},
   "outputs": [],
   "source": [
    "urlWikipedia = 'https://vi.wikipedia.org'"
   ]
  },
  {
   "cell_type": "code",
   "execution_count": 3,
   "metadata": {},
   "outputs": [],
   "source": [
    "url = 'https://vi.wikipedia.org/wiki/T%E1%BB%89nh_th%C3%A0nh_Vi%E1%BB%87t_Nam'\n",
    "browser = webdriver.Chrome(r'D:\\Back Up\\sutrix\\Python\\EXE\\chromedriver.exe')\n",
    "browser.get(url)"
   ]
  },
  {
   "cell_type": "code",
   "execution_count": 4,
   "metadata": {},
   "outputs": [],
   "source": [
    "soup = BeautifulSoup(browser.page_source, 'html.parser')"
   ]
  },
  {
   "cell_type": "code",
   "execution_count": 7,
   "metadata": {},
   "outputs": [],
   "source": [
    "table = soup.find_all('table', attrs={'class':'wikitable sortable mw-collapsible jquery-tablesorter mw-made-collapsible'})[0]"
   ]
  },
  {
   "cell_type": "code",
   "execution_count": 29,
   "metadata": {},
   "outputs": [],
   "source": [
    "body_content = table.find('tbody')\n",
    "tr_content = body_content.find_all('tr')\n",
    "link_province = []\n",
    "name_province = []\n",
    "for tr in tr_content:\n",
    "    # td = tr.find_all('td')\n",
    "    href = tr.find_all(href=True)\n",
    "    link = urlWikipedia + href[0]['href']\n",
    "    name = href[0].text\n",
    "    link_province.append(link)\n",
    "    name_province.append(name)\n",
    "df = pd.DataFrame({\n",
    "    'Name': name_province,\n",
    "    'Link': link_province\n",
    "})"
   ]
  },
  {
   "cell_type": "code",
   "execution_count": 30,
   "metadata": {},
   "outputs": [
    {
     "data": {
      "text/html": [
       "<div>\n",
       "<style scoped>\n",
       "    .dataframe tbody tr th:only-of-type {\n",
       "        vertical-align: middle;\n",
       "    }\n",
       "\n",
       "    .dataframe tbody tr th {\n",
       "        vertical-align: top;\n",
       "    }\n",
       "\n",
       "    .dataframe thead th {\n",
       "        text-align: right;\n",
       "    }\n",
       "</style>\n",
       "<table border=\"1\" class=\"dataframe\">\n",
       "  <thead>\n",
       "    <tr style=\"text-align: right;\">\n",
       "      <th></th>\n",
       "      <th>Name</th>\n",
       "      <th>Link</th>\n",
       "    </tr>\n",
       "  </thead>\n",
       "  <tbody>\n",
       "    <tr>\n",
       "      <th>0</th>\n",
       "      <td>An Giang</td>\n",
       "      <td>https://vi.wikipedia.org/wiki/An_Giang</td>\n",
       "    </tr>\n",
       "    <tr>\n",
       "      <th>1</th>\n",
       "      <td>Bà Rịa - Vũng Tàu</td>\n",
       "      <td>https://vi.wikipedia.org/wiki/B%C3%A0_R%E1%BB%...</td>\n",
       "    </tr>\n",
       "    <tr>\n",
       "      <th>2</th>\n",
       "      <td>Bạc Liêu</td>\n",
       "      <td>https://vi.wikipedia.org/wiki/B%E1%BA%A1c_Li%C...</td>\n",
       "    </tr>\n",
       "    <tr>\n",
       "      <th>3</th>\n",
       "      <td>Bắc Giang</td>\n",
       "      <td>https://vi.wikipedia.org/wiki/B%E1%BA%AFc_Giang</td>\n",
       "    </tr>\n",
       "    <tr>\n",
       "      <th>4</th>\n",
       "      <td>Bắc Kạn</td>\n",
       "      <td>https://vi.wikipedia.org/wiki/B%E1%BA%AFc_K%E1...</td>\n",
       "    </tr>\n",
       "  </tbody>\n",
       "</table>\n",
       "</div>"
      ],
      "text/plain": [
       "                Name                                               Link\n",
       "0           An Giang             https://vi.wikipedia.org/wiki/An_Giang\n",
       "1  Bà Rịa - Vũng Tàu  https://vi.wikipedia.org/wiki/B%C3%A0_R%E1%BB%...\n",
       "2           Bạc Liêu  https://vi.wikipedia.org/wiki/B%E1%BA%A1c_Li%C...\n",
       "3          Bắc Giang    https://vi.wikipedia.org/wiki/B%E1%BA%AFc_Giang\n",
       "4            Bắc Kạn  https://vi.wikipedia.org/wiki/B%E1%BA%AFc_K%E1..."
      ]
     },
     "execution_count": 30,
     "metadata": {},
     "output_type": "execute_result"
    }
   ],
   "source": [
    "df.head()"
   ]
  },
  {
   "cell_type": "code",
   "execution_count": 32,
   "metadata": {},
   "outputs": [],
   "source": [
    "df.to_csv('data_original/coordinates/Link_Provinces.csv')"
   ]
  },
  {
   "cell_type": "code",
   "execution_count": 33,
   "metadata": {},
   "outputs": [],
   "source": [
    "browser.quit()"
   ]
  },
  {
   "cell_type": "code",
   "execution_count": null,
   "metadata": {},
   "outputs": [],
   "source": []
  }
 ],
 "metadata": {
  "kernelspec": {
   "display_name": "Python 3",
   "language": "python",
   "name": "python3"
  },
  "language_info": {
   "codemirror_mode": {
    "name": "ipython",
    "version": 3
   },
   "file_extension": ".py",
   "mimetype": "text/x-python",
   "name": "python",
   "nbconvert_exporter": "python",
   "pygments_lexer": "ipython3",
   "version": "3.7.6"
  }
 },
 "nbformat": 4,
 "nbformat_minor": 4
}
