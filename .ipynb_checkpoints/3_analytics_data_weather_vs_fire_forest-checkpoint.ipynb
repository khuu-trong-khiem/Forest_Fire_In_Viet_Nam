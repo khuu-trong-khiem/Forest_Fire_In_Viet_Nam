{
 "cells": [
  {
   "cell_type": "code",
   "execution_count": 1,
   "metadata": {},
   "outputs": [],
   "source": [
    "import pandas as pd\n",
    "import matplotlib.pyplot as plt\n",
    "from matplotlib.gridspec import GridSpec\n",
    "import seaborn as sb"
   ]
  },
  {
   "cell_type": "code",
   "execution_count": 2,
   "metadata": {},
   "outputs": [],
   "source": [
    "from lib_analytics import showInfoDataFrame, displaySideBySide, showComponentOfColumn"
   ]
  },
  {
   "cell_type": "code",
   "execution_count": 3,
   "metadata": {},
   "outputs": [
    {
     "data": {
      "text/plain": [
       "(707, 11)"
      ]
     },
     "execution_count": 3,
     "metadata": {},
     "output_type": "execute_result"
    }
   ],
   "source": [
    "data_original = pd.read_csv(\"data_preprocessing/data_final.csv\", index_col=0)\n",
    "data_original.shape"
   ]
  },
  {
   "cell_type": "code",
   "execution_count": 14,
   "metadata": {},
   "outputs": [
    {
     "name": "stdout",
     "output_type": "stream",
     "text": [
      "<class 'pandas.core.frame.DataFrame'>\n",
      "Int64Index: 707 entries, 0 to 706\n",
      "Data columns (total 11 columns):\n",
      " #   Column           Non-Null Count  Dtype  \n",
      "---  ------           --------------  -----  \n",
      " 0   Ma_Tinh          707 non-null    float64\n",
      " 1   Name             707 non-null    object \n",
      " 2   Nam              707 non-null    float64\n",
      " 3   Thang            707 non-null    float64\n",
      " 4   So_Diem_Chay     707 non-null    float64\n",
      " 5   Air_Humidity     707 non-null    float64\n",
      " 6   Air_Temperature  707 non-null    float64\n",
      " 7   Rainfull         707 non-null    float64\n",
      " 8   Sunshine         707 non-null    float64\n",
      " 9   Latitude         707 non-null    float64\n",
      " 10  Longitude        707 non-null    float64\n",
      "dtypes: float64(10), object(1)\n",
      "memory usage: 66.3+ KB\n"
     ]
    }
   ],
   "source": [
    "data_original.info()"
   ]
  },
  {
   "cell_type": "code",
   "execution_count": 4,
   "metadata": {},
   "outputs": [
    {
     "name": "stdout",
     "output_type": "stream",
     "text": [
      "{'Cà Mau', 'Vinh', 'Vũng Tàu', 'Nam Định', 'Tuyên Quang', 'Hà Nội', 'Lai Châu', 'Đà Nẵng', 'Sơn La', 'Huế'}\n"
     ]
    }
   ],
   "source": [
    "tuple_name = set(\n",
    "    data_original.Name  \n",
    ")\n",
    "print(tuple_name)"
   ]
  },
  {
   "cell_type": "code",
   "execution_count": 10,
   "metadata": {},
   "outputs": [],
   "source": [
    "df = data_original[data_original.Name == 'Cà Mau']"
   ]
  },
  {
   "cell_type": "code",
   "execution_count": 19,
   "metadata": {},
   "outputs": [
    {
     "data": {
      "text/html": [
       "<div>\n",
       "<style scoped>\n",
       "    .dataframe tbody tr th:only-of-type {\n",
       "        vertical-align: middle;\n",
       "    }\n",
       "\n",
       "    .dataframe tbody tr th {\n",
       "        vertical-align: top;\n",
       "    }\n",
       "\n",
       "    .dataframe thead th {\n",
       "        text-align: right;\n",
       "    }\n",
       "</style>\n",
       "<table border=\"1\" class=\"dataframe\">\n",
       "  <thead>\n",
       "    <tr style=\"text-align: right;\">\n",
       "      <th></th>\n",
       "      <th>Ten Tinh</th>\n",
       "      <th>So_Diem_Chay VS Sunshine</th>\n",
       "      <th>So_Diem_Chay VS Air_Humidity</th>\n",
       "      <th>So_Diem_Chay VS Air_Temperature</th>\n",
       "      <th>So_Diem_Chay VS Rainfull</th>\n",
       "    </tr>\n",
       "  </thead>\n",
       "  <tbody>\n",
       "    <tr>\n",
       "      <th>0</th>\n",
       "      <td>Cà Mau</td>\n",
       "      <td>0.362110</td>\n",
       "      <td>-0.254585</td>\n",
       "      <td>0.038536</td>\n",
       "      <td>-0.285190</td>\n",
       "    </tr>\n",
       "    <tr>\n",
       "      <th>1</th>\n",
       "      <td>Vinh</td>\n",
       "      <td>-0.023563</td>\n",
       "      <td>0.256171</td>\n",
       "      <td>-0.129996</td>\n",
       "      <td>-0.214401</td>\n",
       "    </tr>\n",
       "    <tr>\n",
       "      <th>2</th>\n",
       "      <td>Vũng Tàu</td>\n",
       "      <td>0.398424</td>\n",
       "      <td>-0.192095</td>\n",
       "      <td>0.129836</td>\n",
       "      <td>-0.187174</td>\n",
       "    </tr>\n",
       "    <tr>\n",
       "      <th>3</th>\n",
       "      <td>Nam Định</td>\n",
       "      <td>0.014032</td>\n",
       "      <td>0.260376</td>\n",
       "      <td>0.131842</td>\n",
       "      <td>0.129343</td>\n",
       "    </tr>\n",
       "    <tr>\n",
       "      <th>4</th>\n",
       "      <td>Tuyên Quang</td>\n",
       "      <td>-0.122084</td>\n",
       "      <td>-0.032917</td>\n",
       "      <td>-0.008745</td>\n",
       "      <td>-0.156677</td>\n",
       "    </tr>\n",
       "    <tr>\n",
       "      <th>5</th>\n",
       "      <td>Hà Nội</td>\n",
       "      <td>0.188601</td>\n",
       "      <td>0.140612</td>\n",
       "      <td>0.507407</td>\n",
       "      <td>0.486746</td>\n",
       "    </tr>\n",
       "    <tr>\n",
       "      <th>6</th>\n",
       "      <td>Lai Châu</td>\n",
       "      <td>0.294777</td>\n",
       "      <td>-0.227687</td>\n",
       "      <td>0.059148</td>\n",
       "      <td>-0.137159</td>\n",
       "    </tr>\n",
       "    <tr>\n",
       "      <th>7</th>\n",
       "      <td>Đà Nẵng</td>\n",
       "      <td>0.192555</td>\n",
       "      <td>0.037235</td>\n",
       "      <td>-0.102327</td>\n",
       "      <td>-0.192353</td>\n",
       "    </tr>\n",
       "    <tr>\n",
       "      <th>8</th>\n",
       "      <td>Sơn La</td>\n",
       "      <td>0.235918</td>\n",
       "      <td>-0.393555</td>\n",
       "      <td>0.101222</td>\n",
       "      <td>-0.111307</td>\n",
       "    </tr>\n",
       "    <tr>\n",
       "      <th>9</th>\n",
       "      <td>Huế</td>\n",
       "      <td>0.094616</td>\n",
       "      <td>0.065505</td>\n",
       "      <td>-0.029799</td>\n",
       "      <td>-0.159776</td>\n",
       "    </tr>\n",
       "  </tbody>\n",
       "</table>\n",
       "</div>"
      ],
      "text/plain": [
       "      Ten Tinh  So_Diem_Chay VS Sunshine  So_Diem_Chay VS Air_Humidity  \\\n",
       "0       Cà Mau                  0.362110                     -0.254585   \n",
       "1         Vinh                 -0.023563                      0.256171   \n",
       "2     Vũng Tàu                  0.398424                     -0.192095   \n",
       "3     Nam Định                  0.014032                      0.260376   \n",
       "4  Tuyên Quang                 -0.122084                     -0.032917   \n",
       "5       Hà Nội                  0.188601                      0.140612   \n",
       "6     Lai Châu                  0.294777                     -0.227687   \n",
       "7      Đà Nẵng                  0.192555                      0.037235   \n",
       "8       Sơn La                  0.235918                     -0.393555   \n",
       "9          Huế                  0.094616                      0.065505   \n",
       "\n",
       "   So_Diem_Chay VS Air_Temperature  So_Diem_Chay VS Rainfull  \n",
       "0                         0.038536                 -0.285190  \n",
       "1                        -0.129996                 -0.214401  \n",
       "2                         0.129836                 -0.187174  \n",
       "3                         0.131842                  0.129343  \n",
       "4                        -0.008745                 -0.156677  \n",
       "5                         0.507407                  0.486746  \n",
       "6                         0.059148                 -0.137159  \n",
       "7                        -0.102327                 -0.192353  \n",
       "8                         0.101222                 -0.111307  \n",
       "9                        -0.029799                 -0.159776  "
      ]
     },
     "execution_count": 19,
     "metadata": {},
     "output_type": "execute_result"
    }
   ],
   "source": [
    "columns = [\n",
    "    'Ten Tinh', \n",
    "    'So_Diem_Chay VS Sunshine', \n",
    "    'So_Diem_Chay VS Air_Humidity', \n",
    "    'So_Diem_Chay VS Air_Temperature', \n",
    "    'So_Diem_Chay VS Rainfull', \n",
    "]\n",
    "df_corr = pd.DataFrame(columns=columns)\n",
    "for name in tuple_name:\n",
    "    df = data_original[data_original.Name == name]\n",
    "    new_row = pd.Series(\n",
    "        data = {\n",
    "            columns[0]: name,\n",
    "            columns[1]: df.So_Diem_Chay.corr(df.Sunshine),\n",
    "            columns[2]: df.So_Diem_Chay.corr(df.Air_Humidity),\n",
    "            columns[3]: df.So_Diem_Chay.corr(df.Air_Temperature),\n",
    "            columns[4]: df.So_Diem_Chay.corr(df.Rainfull)\n",
    "        }\n",
    "    )\n",
    "    df_corr = df_corr.append(new_row, ignore_index=True)\n",
    "df_corr"
   ]
  },
  {
   "cell_type": "code",
   "execution_count": 20,
   "metadata": {},
   "outputs": [
    {
     "data": {
      "image/png": "[encoded data removed]",
      "text/plain": [
       "<Figure size 648x504 with 2 Axes>"
      ]
     },
     "metadata": {
      "needs_background": "light"
     },
     "output_type": "display_data"
    }
   ],
   "source": [
    "df_corr_show = df_corr.set_index('Ten Tinh')\n",
    "plt.figure(figsize=(5, 7))\n",
    "sb.heatmap(\n",
    "    df_corr_show,\n",
    "    annot=True,\n",
    "    fmt='0.1f',\n",
    "    cmap='coolwarm'\n",
    ")\n",
    "plt.title('Mối quan hệ giữa các chỉ số thời tiết với số Điểm cháy qua các tỉnh', fontweight='bold', fontsize=14)\n",
    "plt.show()"
   ]
  },
  {
   "cell_type": "code",
   "execution_count": null,
   "metadata": {},
   "outputs": [],
   "source": []
  }
 ],
 "metadata": {
  "kernelspec": {
   "display_name": "Python 3",
   "language": "python",
   "name": "python3"
  },
  "language_info": {
   "codemirror_mode": {
    "name": "ipython",
    "version": 3
   },
   "file_extension": ".py",
   "mimetype": "text/x-python",
   "name": "python",
   "nbconvert_exporter": "python",
   "pygments_lexer": "ipython3",
   "version": "3.7.6"
  }
 },
 "nbformat": 4,
 "nbformat_minor": 4
}
