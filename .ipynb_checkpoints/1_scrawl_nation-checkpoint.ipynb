{
 "cells": [
  {
   "cell_type": "code",
   "execution_count": 1,
   "metadata": {},
   "outputs": [],
   "source": [
    "from selenium import webdriver\n",
    "from bs4 import BeautifulSoup"
   ]
  },
  {
   "cell_type": "code",
   "execution_count": 2,
   "metadata": {},
   "outputs": [],
   "source": [
    "import pandas as pd\n",
    "from time import sleep\n",
    "from lib_parse_data import *"
   ]
  },
  {
   "cell_type": "code",
   "execution_count": 3,
   "metadata": {},
   "outputs": [],
   "source": [
    "url = 'http://firewatchvn.kiemlam.org.vn/thong-ke'\n",
    "browser = webdriver.Chrome(r'D:\\Back Up\\sutrix\\Python\\EXE\\chromedriver.exe')\n",
    "browser.get(url)"
   ]
  },
  {
   "cell_type": "code",
   "execution_count": 4,
   "metadata": {},
   "outputs": [],
   "source": [
    "soup = BeautifulSoup(browser.page_source, 'html.parser')"
   ]
  },
  {
   "cell_type": "code",
   "execution_count": 5,
   "metadata": {},
   "outputs": [
    {
     "ename": "IndexError",
     "evalue": "list index out of range",
     "output_type": "error",
     "traceback": [
      "\u001b[1;31m---------------------------------------------------------------------------\u001b[0m",
      "\u001b[1;31mIndexError\u001b[0m                                Traceback (most recent call last)",
      "\u001b[1;32m<ipython-input-5-87c02d391ab7>\u001b[0m in \u001b[0;36m<module>\u001b[1;34m\u001b[0m\n\u001b[1;32m----> 1\u001b[1;33m \u001b[0mtable\u001b[0m \u001b[1;33m=\u001b[0m \u001b[0msoup\u001b[0m\u001b[1;33m.\u001b[0m\u001b[0mfind_all\u001b[0m\u001b[1;33m(\u001b[0m\u001b[1;34m'table'\u001b[0m\u001b[1;33m,\u001b[0m \u001b[0mattrs\u001b[0m\u001b[1;33m=\u001b[0m\u001b[1;33m{\u001b[0m\u001b[1;34m'class'\u001b[0m\u001b[1;33m:\u001b[0m\u001b[1;34m'table table-bordered'\u001b[0m\u001b[1;33m}\u001b[0m\u001b[1;33m)\u001b[0m\u001b[1;33m[\u001b[0m\u001b[1;36m0\u001b[0m\u001b[1;33m]\u001b[0m\u001b[1;33m\u001b[0m\u001b[1;33m\u001b[0m\u001b[0m\n\u001b[0m\u001b[0;32m      2\u001b[0m \u001b[0mtable\u001b[0m\u001b[1;33m\u001b[0m\u001b[1;33m\u001b[0m\u001b[0m\n",
      "\u001b[1;31mIndexError\u001b[0m: list index out of range"
     ]
    }
   ],
   "source": [
    "table = soup.find_all('table', attrs={'class':'table table-bordered'})[0]\n",
    "table"
   ]
  },
  {
   "cell_type": "code",
   "execution_count": null,
   "metadata": {},
   "outputs": [],
   "source": [
    "title_chiso, dict_chiso = parseSelect(soup, 'fw-chiso')\n",
    "print(title_chiso)\n",
    "for k, v in dict_chiso.items():\n",
    "    print(k, ' - ', v)\n",
    "df = pd.DataFrame(data={\n",
    "    'Format': list(dict_chiso.keys()),\n",
    "    'Infomation': list(dict_chiso.values())\n",
    "})\n",
    "df.to_csv('data_original/toan_quoc/Format_Forest.csv')"
   ]
  },
  {
   "cell_type": "code",
   "execution_count": null,
   "metadata": {},
   "outputs": [],
   "source": [
    "title_namtk, dict_namtk = parseSelect(soup, 'fw-namtk1')\n",
    "print(title_namtk)\n",
    "for k, v in dict_namtk.items():\n",
    "    print(k, ' - ', v)\n",
    "df = pd.DataFrame(data={\n",
    "    'Key': list(dict_namtk.keys()),\n",
    "    'Value': list(dict_namtk.values())\n",
    "})\n",
    "df.to_csv('data_original/toan_quoc/Years_Forest.csv')"
   ]
  },
  {
   "cell_type": "code",
   "execution_count": null,
   "metadata": {},
   "outputs": [],
   "source": [
    "chiso_element = browser.find_element_by_id('schiso')\n",
    "year_element = browser.find_element_by_id('snamtk-1')\n",
    "button_element = browser.find_element_by_id('fw-thongke-btsearch')"
   ]
  },
  {
   "cell_type": "code",
   "execution_count": null,
   "metadata": {
    "scrolled": false
   },
   "outputs": [],
   "source": [
    "df = None\n",
    "for key_chiso in dict_chiso.keys():\n",
    "    setAttribute(browser, 'schiso', key_chiso)\n",
    "    button_element.click()\n",
    "    browser.implicitly_wait(30)\n",
    "    sleep(10)\n",
    "    for key_namtk in dict_namtk.keys():\n",
    "        setAttribute(browser, 'snamtk-1', key_namtk)\n",
    "        button_element.click()\n",
    "        browser.implicitly_wait(30)\n",
    "        sleep(10)\n",
    "        # -----------\n",
    "        file_name = 'data_original/toan_quoc/' + key_chiso + '_' + key_namtk + '.csv'\n",
    "        soup = BeautifulSoup(browser.page_source, 'html.parser')\n",
    "        table = soup.find_all('table', attrs={'class':'table table-bordered'})[0]\n",
    "        df = parseData(table)\n",
    "        df.to_csv(file_name)\n",
    "        print(file_name)"
   ]
  },
  {
   "cell_type": "code",
   "execution_count": null,
   "metadata": {},
   "outputs": [],
   "source": [
    "browser.quit()"
   ]
  }
 ],
 "metadata": {
  "kernelspec": {
   "display_name": "Python 3",
   "language": "python",
   "name": "python3"
  },
  "language_info": {
   "codemirror_mode": {
    "name": "ipython",
    "version": 3
   },
   "file_extension": ".py",
   "mimetype": "text/x-python",
   "name": "python",
   "nbconvert_exporter": "python",
   "pygments_lexer": "ipython3",
   "version": "3.7.6"
  }
 },
 "nbformat": 4,
 "nbformat_minor": 4
}
