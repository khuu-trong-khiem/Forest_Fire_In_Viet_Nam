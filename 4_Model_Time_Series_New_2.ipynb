{
 "cells": [
  {
   "cell_type": "code",
   "execution_count": 1,
   "metadata": {},
   "outputs": [],
   "source": [
    "import pandas as pd\n",
    "import matplotlib.pyplot as plt\n",
    "from datetime import datetime, date\n",
    "from dateutil.relativedelta import relativedelta"
   ]
  },
  {
   "cell_type": "code",
   "execution_count": 30,
   "metadata": {},
   "outputs": [],
   "source": [
    "from statsmodels.tsa.holtwinters import ExponentialSmoothing\n",
    "from statsmodels.tsa.seasonal import seasonal_decompose\n",
    "import pickle"
   ]
  },
  {
   "cell_type": "code",
   "execution_count": 14,
   "metadata": {},
   "outputs": [
    {
     "name": "stdout",
     "output_type": "stream",
     "text": [
      "(116, 3)\n"
     ]
    },
    {
     "data": {
      "text/html": [
       "<div>\n",
       "<style scoped>\n",
       "    .dataframe tbody tr th:only-of-type {\n",
       "        vertical-align: middle;\n",
       "    }\n",
       "\n",
       "    .dataframe tbody tr th {\n",
       "        vertical-align: top;\n",
       "    }\n",
       "\n",
       "    .dataframe thead th {\n",
       "        text-align: right;\n",
       "    }\n",
       "</style>\n",
       "<table border=\"1\" class=\"dataframe\">\n",
       "  <thead>\n",
       "    <tr style=\"text-align: right;\">\n",
       "      <th></th>\n",
       "      <th>Thang</th>\n",
       "      <th>So_Diem_Chay</th>\n",
       "      <th>Nam</th>\n",
       "    </tr>\n",
       "  </thead>\n",
       "  <tbody>\n",
       "    <tr>\n",
       "      <th>0</th>\n",
       "      <td>1</td>\n",
       "      <td>386</td>\n",
       "      <td>2011</td>\n",
       "    </tr>\n",
       "    <tr>\n",
       "      <th>1</th>\n",
       "      <td>2</td>\n",
       "      <td>1967</td>\n",
       "      <td>2011</td>\n",
       "    </tr>\n",
       "    <tr>\n",
       "      <th>2</th>\n",
       "      <td>3</td>\n",
       "      <td>1292</td>\n",
       "      <td>2011</td>\n",
       "    </tr>\n",
       "    <tr>\n",
       "      <th>3</th>\n",
       "      <td>4</td>\n",
       "      <td>2099</td>\n",
       "      <td>2011</td>\n",
       "    </tr>\n",
       "    <tr>\n",
       "      <th>4</th>\n",
       "      <td>5</td>\n",
       "      <td>960</td>\n",
       "      <td>2011</td>\n",
       "    </tr>\n",
       "  </tbody>\n",
       "</table>\n",
       "</div>"
      ],
      "text/plain": [
       "   Thang  So_Diem_Chay   Nam\n",
       "0      1           386  2011\n",
       "1      2          1967  2011\n",
       "2      3          1292  2011\n",
       "3      4          2099  2011\n",
       "4      5           960  2011"
      ]
     },
     "execution_count": 14,
     "metadata": {},
     "output_type": "execute_result"
    }
   ],
   "source": [
    "data_show = pd.read_csv('data_preprocessing/general_nation_month_year.csv', index_col=0)\n",
    "print(data_show.shape)\n",
    "data_show.head()"
   ]
  },
  {
   "cell_type": "code",
   "execution_count": 9,
   "metadata": {},
   "outputs": [
    {
     "name": "stdout",
     "output_type": "stream",
     "text": [
      "(116, 1)\n"
     ]
    },
    {
     "data": {
      "text/html": [
       "<div>\n",
       "<style scoped>\n",
       "    .dataframe tbody tr th:only-of-type {\n",
       "        vertical-align: middle;\n",
       "    }\n",
       "\n",
       "    .dataframe tbody tr th {\n",
       "        vertical-align: top;\n",
       "    }\n",
       "\n",
       "    .dataframe thead th {\n",
       "        text-align: right;\n",
       "    }\n",
       "</style>\n",
       "<table border=\"1\" class=\"dataframe\">\n",
       "  <thead>\n",
       "    <tr style=\"text-align: right;\">\n",
       "      <th></th>\n",
       "      <th>So_Diem_Chay</th>\n",
       "    </tr>\n",
       "    <tr>\n",
       "      <th>Date</th>\n",
       "      <th></th>\n",
       "    </tr>\n",
       "  </thead>\n",
       "  <tbody>\n",
       "    <tr>\n",
       "      <th>2011-01-01</th>\n",
       "      <td>386</td>\n",
       "    </tr>\n",
       "    <tr>\n",
       "      <th>2011-02-01</th>\n",
       "      <td>1967</td>\n",
       "    </tr>\n",
       "    <tr>\n",
       "      <th>2011-03-01</th>\n",
       "      <td>1292</td>\n",
       "    </tr>\n",
       "    <tr>\n",
       "      <th>2011-04-01</th>\n",
       "      <td>2099</td>\n",
       "    </tr>\n",
       "    <tr>\n",
       "      <th>2011-05-01</th>\n",
       "      <td>960</td>\n",
       "    </tr>\n",
       "  </tbody>\n",
       "</table>\n",
       "</div>"
      ],
      "text/plain": [
       "            So_Diem_Chay\n",
       "Date                    \n",
       "2011-01-01           386\n",
       "2011-02-01          1967\n",
       "2011-03-01          1292\n",
       "2011-04-01          2099\n",
       "2011-05-01           960"
      ]
     },
     "execution_count": 9,
     "metadata": {},
     "output_type": "execute_result"
    }
   ],
   "source": [
    "def splitData(df, group):\n",
    "    df = df[['Nam', 'Thang', 'So_Diem_Chay']]\n",
    "    df = df.assign(\n",
    "        Date = df[['Nam', 'Thang']].T.apply(lambda x: date(int(x.Nam), int(x.Thang), 1))\n",
    "    )[[\n",
    "        'Date', 'So_Diem_Chay'\n",
    "    ]].set_index('Date')\n",
    "    return df\n",
    "# --------------\n",
    "df_group_0 = splitData(data_show, 0)\n",
    "df_group_0 = df_group_0.groupby(df_group_0.index).sum()\n",
    "print(df_group_0.shape)\n",
    "df_group_0.head(5)"
   ]
  },
  {
   "cell_type": "code",
   "execution_count": 43,
   "metadata": {},
   "outputs": [],
   "source": [
    "train_0, test_0 = df_group_0.iloc[:104, 0], df_group_0.iloc[104:, 0]"
   ]
  },
  {
   "cell_type": "code",
   "execution_count": 75,
   "metadata": {},
   "outputs": [
    {
     "name": "stdout",
     "output_type": "stream",
     "text": [
      "Performing stepwise search to minimize aic\n",
      " ARIMA(1,1,1)(0,1,1)[12]             : AIC=2353.916, Time=0.38 sec\n",
      " ARIMA(0,1,0)(0,1,0)[12]             : AIC=2371.552, Time=0.01 sec\n",
      " ARIMA(1,1,0)(1,1,0)[12]             : AIC=2368.931, Time=0.10 sec\n",
      " ARIMA(0,1,1)(0,1,1)[12]             : AIC=2355.491, Time=0.20 sec\n",
      " ARIMA(1,1,1)(0,1,0)[12]             : AIC=2351.910, Time=0.05 sec\n",
      " ARIMA(1,1,1)(1,1,0)[12]             : AIC=2352.785, Time=0.17 sec\n",
      " ARIMA(1,1,1)(1,1,1)[12]             : AIC=2350.509, Time=0.58 sec\n",
      " ARIMA(1,1,1)(2,1,1)[12]             : AIC=2334.891, Time=0.93 sec\n",
      " ARIMA(1,1,1)(2,1,0)[12]             : AIC=2332.959, Time=0.59 sec\n",
      " ARIMA(0,1,1)(2,1,0)[12]             : AIC=2332.393, Time=0.34 sec\n",
      " ARIMA(0,1,1)(1,1,0)[12]             : AIC=2352.583, Time=0.09 sec\n",
      " ARIMA(0,1,1)(2,1,1)[12]             : AIC=2334.273, Time=0.65 sec\n",
      " ARIMA(0,1,1)(1,1,1)[12]             : AIC=2351.306, Time=0.49 sec\n",
      " ARIMA(0,1,0)(2,1,0)[12]             : AIC=inf, Time=0.32 sec\n",
      " ARIMA(0,1,2)(2,1,0)[12]             : AIC=2315.064, Time=0.60 sec\n",
      " ARIMA(0,1,2)(1,1,0)[12]             : AIC=2337.220, Time=0.15 sec\n",
      " ARIMA(0,1,2)(2,1,1)[12]             : AIC=2317.061, Time=0.84 sec\n",
      " ARIMA(0,1,2)(1,1,1)[12]             : AIC=2331.473, Time=0.59 sec\n",
      " ARIMA(1,1,2)(2,1,0)[12]             : AIC=2306.031, Time=0.96 sec\n",
      " ARIMA(1,1,2)(1,1,0)[12]             : AIC=inf, Time=0.33 sec\n",
      " ARIMA(1,1,2)(2,1,1)[12]             : AIC=2308.007, Time=1.30 sec\n",
      " ARIMA(1,1,2)(1,1,1)[12]             : AIC=inf, Time=0.94 sec\n",
      " ARIMA(2,1,2)(2,1,0)[12]             : AIC=2305.381, Time=1.12 sec\n",
      " ARIMA(2,1,2)(1,1,0)[12]             : AIC=inf, Time=0.65 sec\n",
      " ARIMA(2,1,2)(2,1,1)[12]             : AIC=2307.261, Time=1.36 sec\n",
      " ARIMA(2,1,2)(1,1,1)[12]             : AIC=2323.650, Time=1.21 sec\n",
      " ARIMA(2,1,1)(2,1,0)[12]             : AIC=2307.837, Time=1.33 sec\n",
      " ARIMA(3,1,2)(2,1,0)[12]             : AIC=2306.453, Time=1.82 sec\n",
      " ARIMA(2,1,3)(2,1,0)[12]             : AIC=2306.481, Time=1.46 sec\n",
      " ARIMA(1,1,3)(2,1,0)[12]             : AIC=2304.551, Time=1.41 sec\n",
      " ARIMA(1,1,3)(1,1,0)[12]             : AIC=2322.596, Time=0.38 sec\n",
      " ARIMA(1,1,3)(2,1,1)[12]             : AIC=2306.419, Time=1.85 sec\n",
      " ARIMA(1,1,3)(1,1,1)[12]             : AIC=2320.500, Time=1.45 sec\n",
      " ARIMA(0,1,3)(2,1,0)[12]             : AIC=2302.688, Time=0.80 sec\n",
      " ARIMA(0,1,3)(1,1,0)[12]             : AIC=inf, Time=0.32 sec\n",
      " ARIMA(0,1,3)(2,1,1)[12]             : AIC=2304.560, Time=1.21 sec\n",
      " ARIMA(0,1,3)(1,1,1)[12]             : AIC=2320.609, Time=1.27 sec\n",
      " ARIMA(0,1,3)(2,1,0)[12] intercept   : AIC=2307.720, Time=0.63 sec\n",
      "\n",
      "Best model:  ARIMA(0,1,3)(2,1,0)[12]          \n",
      "Total fit time: 28.916 seconds\n",
      "AIC Model : 2302.688012092314\n"
     ]
    }
   ],
   "source": [
    "# model = ExponentialSmoothing(train_0, seasonal='mul', seasonal_periods=12).fit()\n",
    "\n",
    "def createModel(df, seasonal):\n",
    "    arima = auto_arima(\n",
    "        df,\n",
    "        m=12,\n",
    "        start_p=1,\n",
    "        start_q=1,\n",
    "        start_P=0,\n",
    "        max_p=3,\n",
    "        max_q=3,\n",
    "        d=1,\n",
    "        D=1,\n",
    "        trace=True,\n",
    "        seasonal=seasonal,\n",
    "        error_action='ignore',\n",
    "        suppress_warnings=True,\n",
    "        stepwise=True\n",
    "    )\n",
    "    print('AIC Model :', arima.aic())\n",
    "    return arima.fit(df)\n",
    "\n",
    "model = createModel(df_group_0, True)"
   ]
  },
  {
   "cell_type": "code",
   "execution_count": 76,
   "metadata": {},
   "outputs": [
    {
     "data": {
      "text/plain": [
       "array([-4563.5586694 , -1347.45366406,  1122.69536872,  3106.29201666,\n",
       "        7616.07374346, 39222.82640681, -1253.7626717 ,  3691.42343538,\n",
       "        8867.70138396,  3370.20068146,  2316.39258052,  2054.68610275])"
      ]
     },
     "execution_count": 76,
     "metadata": {},
     "output_type": "execute_result"
    }
   ],
   "source": [
    "\"\"\"\n",
    "predict = model.predict(\n",
    "    start=test_0.index[0],\n",
    "    end=test_0.index[-1]\n",
    ")\n",
    "predict\n",
    "\"\"\"\n",
    "\n",
    "predict = model.predict(n_periods=len(test_0))\n",
    "predict"
   ]
  },
  {
   "cell_type": "code",
   "execution_count": 77,
   "metadata": {},
   "outputs": [
    {
     "data": {
      "text/plain": [
       "Date\n",
       "2019-09-01     2298\n",
       "2019-10-01     3920\n",
       "2019-11-01     1677\n",
       "2019-12-01     1241\n",
       "2020-01-01     7188\n",
       "2020-02-01    36146\n",
       "2020-03-01     4637\n",
       "2020-04-01     2689\n",
       "2020-05-01     7658\n",
       "2020-06-01     1733\n",
       "2020-07-01       59\n",
       "2020-08-01      314\n",
       "Name: So_Diem_Chay, dtype: int64"
      ]
     },
     "execution_count": 77,
     "metadata": {},
     "output_type": "execute_result"
    }
   ],
   "source": [
    "test_0"
   ]
  },
  {
   "cell_type": "code",
   "execution_count": 78,
   "metadata": {},
   "outputs": [
    {
     "data": {
      "image/png": "[encoded data removed]",
      "text/plain": [
       "<Figure size 1008x504 with 1 Axes>"
      ]
     },
     "metadata": {
      "needs_background": "light"
     },
     "output_type": "display_data"
    }
   ],
   "source": [
    "plt.figure(figsize=(14,7))\n",
    "plt.plot(train_0.index, train_0)\n",
    "plt.plot(test_0.index, test_0)\n",
    "plt.plot(test_0.index, test_0, color='y')\n",
    "plt.plot(test_0.index, predict, color='g')\n",
    "plt.show()\n",
    "plt.close()"
   ]
  },
  {
   "cell_type": "code",
   "execution_count": null,
   "metadata": {},
   "outputs": [],
   "source": []
  }
 ],
 "metadata": {
  "kernelspec": {
   "display_name": "Python 3",
   "language": "python",
   "name": "python3"
  },
  "language_info": {
   "codemirror_mode": {
    "name": "ipython",
    "version": 3
   },
   "file_extension": ".py",
   "mimetype": "text/x-python",
   "name": "python",
   "nbconvert_exporter": "python",
   "pygments_lexer": "ipython3",
   "version": "3.7.6"
  }
 },
 "nbformat": 4,
 "nbformat_minor": 4
}
