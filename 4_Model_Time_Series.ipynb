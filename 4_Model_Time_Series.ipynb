{
 "cells": [
  {
   "cell_type": "code",
   "execution_count": 1,
   "metadata": {},
   "outputs": [],
   "source": [
    "import pandas as pd\n",
    "import matplotlib.pyplot as plt\n",
    "from datetime import datetime, date"
   ]
  },
  {
   "cell_type": "code",
   "execution_count": 2,
   "metadata": {},
   "outputs": [],
   "source": [
    "from statsmodels.tsa.holtwinters import ExponentialSmoothing\n",
    "from statsmodels.tsa.seasonal import seasonal_decompose\n",
    "import pickle"
   ]
  },
  {
   "cell_type": "code",
   "execution_count": 3,
   "metadata": {},
   "outputs": [],
   "source": [
    "from sklearn.metrics import mean_squared_error\n",
    "from sklearn.metrics import r2_score"
   ]
  },
  {
   "cell_type": "code",
   "execution_count": 4,
   "metadata": {},
   "outputs": [
    {
     "name": "stdout",
     "output_type": "stream",
     "text": [
      "(707, 11)\n"
     ]
    },
    {
     "data": {
      "text/html": [
       "<div>\n",
       "<style scoped>\n",
       "    .dataframe tbody tr th:only-of-type {\n",
       "        vertical-align: middle;\n",
       "    }\n",
       "\n",
       "    .dataframe tbody tr th {\n",
       "        vertical-align: top;\n",
       "    }\n",
       "\n",
       "    .dataframe thead th {\n",
       "        text-align: right;\n",
       "    }\n",
       "</style>\n",
       "<table border=\"1\" class=\"dataframe\">\n",
       "  <thead>\n",
       "    <tr style=\"text-align: right;\">\n",
       "      <th></th>\n",
       "      <th>Ma_Tinh</th>\n",
       "      <th>Name</th>\n",
       "      <th>Nam</th>\n",
       "      <th>Thang</th>\n",
       "      <th>So_Diem_Chay</th>\n",
       "      <th>Air_Humidity</th>\n",
       "      <th>Air_Temperature</th>\n",
       "      <th>Rainfull</th>\n",
       "      <th>Sunshine</th>\n",
       "      <th>Latitude</th>\n",
       "      <th>Longitude</th>\n",
       "    </tr>\n",
       "  </thead>\n",
       "  <tbody>\n",
       "    <tr>\n",
       "      <th>0</th>\n",
       "      <td>1.0</td>\n",
       "      <td>Hà Nội</td>\n",
       "      <td>2011.0</td>\n",
       "      <td>12.0</td>\n",
       "      <td>1.0</td>\n",
       "      <td>67.0</td>\n",
       "      <td>17.4</td>\n",
       "      <td>51.5</td>\n",
       "      <td>95.6</td>\n",
       "      <td>21.028333</td>\n",
       "      <td>105.853333</td>\n",
       "    </tr>\n",
       "    <tr>\n",
       "      <th>1</th>\n",
       "      <td>1.0</td>\n",
       "      <td>Hà Nội</td>\n",
       "      <td>2012.0</td>\n",
       "      <td>12.0</td>\n",
       "      <td>1.0</td>\n",
       "      <td>79.0</td>\n",
       "      <td>18.7</td>\n",
       "      <td>25.7</td>\n",
       "      <td>42.2</td>\n",
       "      <td>21.028333</td>\n",
       "      <td>105.853333</td>\n",
       "    </tr>\n",
       "    <tr>\n",
       "      <th>2</th>\n",
       "      <td>1.0</td>\n",
       "      <td>Hà Nội</td>\n",
       "      <td>2013.0</td>\n",
       "      <td>12.0</td>\n",
       "      <td>1.0</td>\n",
       "      <td>68.0</td>\n",
       "      <td>16.3</td>\n",
       "      <td>22.2</td>\n",
       "      <td>158.7</td>\n",
       "      <td>21.028333</td>\n",
       "      <td>105.853333</td>\n",
       "    </tr>\n",
       "    <tr>\n",
       "      <th>3</th>\n",
       "      <td>1.0</td>\n",
       "      <td>Hà Nội</td>\n",
       "      <td>2014.0</td>\n",
       "      <td>1.0</td>\n",
       "      <td>1.0</td>\n",
       "      <td>71.0</td>\n",
       "      <td>17.7</td>\n",
       "      <td>0.7</td>\n",
       "      <td>119.2</td>\n",
       "      <td>21.028333</td>\n",
       "      <td>105.853333</td>\n",
       "    </tr>\n",
       "    <tr>\n",
       "      <th>4</th>\n",
       "      <td>1.0</td>\n",
       "      <td>Hà Nội</td>\n",
       "      <td>2014.0</td>\n",
       "      <td>2.0</td>\n",
       "      <td>1.0</td>\n",
       "      <td>79.0</td>\n",
       "      <td>17.2</td>\n",
       "      <td>16.1</td>\n",
       "      <td>31.9</td>\n",
       "      <td>21.028333</td>\n",
       "      <td>105.853333</td>\n",
       "    </tr>\n",
       "  </tbody>\n",
       "</table>\n",
       "</div>"
      ],
      "text/plain": [
       "   Ma_Tinh    Name     Nam  Thang  So_Diem_Chay  Air_Humidity  \\\n",
       "0      1.0  Hà Nội  2011.0   12.0           1.0          67.0   \n",
       "1      1.0  Hà Nội  2012.0   12.0           1.0          79.0   \n",
       "2      1.0  Hà Nội  2013.0   12.0           1.0          68.0   \n",
       "3      1.0  Hà Nội  2014.0    1.0           1.0          71.0   \n",
       "4      1.0  Hà Nội  2014.0    2.0           1.0          79.0   \n",
       "\n",
       "   Air_Temperature  Rainfull  Sunshine   Latitude   Longitude  \n",
       "0             17.4      51.5      95.6  21.028333  105.853333  \n",
       "1             18.7      25.7      42.2  21.028333  105.853333  \n",
       "2             16.3      22.2     158.7  21.028333  105.853333  \n",
       "3             17.7       0.7     119.2  21.028333  105.853333  \n",
       "4             17.2      16.1      31.9  21.028333  105.853333  "
      ]
     },
     "execution_count": 4,
     "metadata": {},
     "output_type": "execute_result"
    }
   ],
   "source": [
    "data_full = pd.read_csv('data_preprocessing/data_final.csv', index_col=0)\n",
    "print(data_full.shape)\n",
    "data_full.head()"
   ]
  },
  {
   "cell_type": "code",
   "execution_count": 5,
   "metadata": {},
   "outputs": [
    {
     "name": "stdout",
     "output_type": "stream",
     "text": [
      "(108, 1)\n"
     ]
    },
    {
     "data": {
      "text/html": [
       "<div>\n",
       "<style scoped>\n",
       "    .dataframe tbody tr th:only-of-type {\n",
       "        vertical-align: middle;\n",
       "    }\n",
       "\n",
       "    .dataframe tbody tr th {\n",
       "        vertical-align: top;\n",
       "    }\n",
       "\n",
       "    .dataframe thead th {\n",
       "        text-align: right;\n",
       "    }\n",
       "</style>\n",
       "<table border=\"1\" class=\"dataframe\">\n",
       "  <thead>\n",
       "    <tr style=\"text-align: right;\">\n",
       "      <th></th>\n",
       "      <th>So_Diem_Chay</th>\n",
       "    </tr>\n",
       "    <tr>\n",
       "      <th>Date</th>\n",
       "      <th></th>\n",
       "    </tr>\n",
       "  </thead>\n",
       "  <tbody>\n",
       "    <tr>\n",
       "      <th>2011-01-01</th>\n",
       "      <td>11.0</td>\n",
       "    </tr>\n",
       "    <tr>\n",
       "      <th>2011-02-01</th>\n",
       "      <td>117.0</td>\n",
       "    </tr>\n",
       "    <tr>\n",
       "      <th>2011-03-01</th>\n",
       "      <td>98.0</td>\n",
       "    </tr>\n",
       "    <tr>\n",
       "      <th>2011-04-01</th>\n",
       "      <td>210.0</td>\n",
       "    </tr>\n",
       "    <tr>\n",
       "      <th>2011-05-01</th>\n",
       "      <td>74.0</td>\n",
       "    </tr>\n",
       "  </tbody>\n",
       "</table>\n",
       "</div>"
      ],
      "text/plain": [
       "            So_Diem_Chay\n",
       "Date                    \n",
       "2011-01-01          11.0\n",
       "2011-02-01         117.0\n",
       "2011-03-01          98.0\n",
       "2011-04-01         210.0\n",
       "2011-05-01          74.0"
      ]
     },
     "execution_count": 5,
     "metadata": {},
     "output_type": "execute_result"
    }
   ],
   "source": [
    "def splitData(df):\n",
    "    df = df[['Nam', 'Thang', 'So_Diem_Chay']]\n",
    "    df = df.assign(\n",
    "        Date = df[['Nam', 'Thang']].T.apply(lambda x: date(int(x.Nam), int(x.Thang), 1))\n",
    "    )[[\n",
    "        'Date', 'So_Diem_Chay'\n",
    "    ]].set_index('Date')\n",
    "    return df\n",
    "# --------------\n",
    "df_time = splitData(data_full)\n",
    "df_time = df_time.groupby(df_time.index).sum()\n",
    "print(df_time.shape)\n",
    "df_time.head(5)"
   ]
  },
  {
   "cell_type": "code",
   "execution_count": 6,
   "metadata": {},
   "outputs": [
    {
     "data": {
      "image/png": "[encoded data removed]",
      "text/plain": [
       "<Figure size 720x504 with 4 Axes>"
      ]
     },
     "metadata": {
      "needs_background": "light"
     },
     "output_type": "display_data"
    }
   ],
   "source": [
    "def showSeasonal(df):\n",
    "    result = seasonal_decompose(x=df, model='multiplicative', period=12)\n",
    "    plt.rcParams['figure.figsize'] = (10, 7)\n",
    "    fig = result.plot()\n",
    "    plt.show()\n",
    "    plt.close()\n",
    "# ------------\n",
    "showSeasonal(df_time)"
   ]
  },
  {
   "cell_type": "code",
   "execution_count": 7,
   "metadata": {},
   "outputs": [
    {
     "name": "stdout",
     "output_type": "stream",
     "text": [
      "Length Train: 99\n",
      "Length Test: 9\n"
     ]
    }
   ],
   "source": [
    "# split = 98\n",
    "# split = 96\n",
    "split = 99\n",
    "train, test = df_time.iloc[:split, 0], df_time.iloc[split:, 0]\n",
    "print('Length Train:', len(train))\n",
    "print('Length Test:', len(test))"
   ]
  },
  {
   "cell_type": "code",
   "execution_count": 8,
   "metadata": {},
   "outputs": [
    {
     "name": "stdout",
     "output_type": "stream",
     "text": [
      "AIC of Model: 1361.8836063291808\n"
     ]
    },
    {
     "name": "stderr",
     "output_type": "stream",
     "text": [
      "C:\\Users\\PC\\anaconda3\\lib\\site-packages\\statsmodels\\tsa\\base\\tsa_model.py:162: ValueWarning: No frequency information was provided, so inferred frequency MS will be used.\n",
      "  % freq, ValueWarning)\n",
      "C:\\Users\\PC\\anaconda3\\lib\\site-packages\\statsmodels\\tsa\\holtwinters.py:725: RuntimeWarning: invalid value encountered in less_equal\n",
      "  loc = initial_p <= lb\n",
      "C:\\Users\\PC\\anaconda3\\lib\\site-packages\\statsmodels\\tsa\\holtwinters.py:731: RuntimeWarning: invalid value encountered in greater_equal\n",
      "  loc = initial_p >= ub\n",
      "C:\\Users\\PC\\anaconda3\\lib\\site-packages\\statsmodels\\tsa\\holtwinters.py:744: ConvergenceWarning: Optimization failed to converge. Check mle_retvals.\n",
      "  ConvergenceWarning)\n"
     ]
    }
   ],
   "source": [
    "model = ExponentialSmoothing(\n",
    "    train, \n",
    "    seasonal='mul', \n",
    "    trend=None,\n",
    "    seasonal_periods=12\n",
    ").fit()\n",
    "print('AIC of Model:', model.aic)"
   ]
  },
  {
   "cell_type": "code",
   "execution_count": 9,
   "metadata": {},
   "outputs": [],
   "source": [
    "predict_train = model.predict(\n",
    "    start=train.index[0],\n",
    "    end=train.index[-1]\n",
    ")\n",
    "# -----------\n",
    "predict_test = model.predict(\n",
    "    start=test.index[0],\n",
    "    end=test.index[-1]\n",
    ")"
   ]
  },
  {
   "cell_type": "code",
   "execution_count": 10,
   "metadata": {},
   "outputs": [
    {
     "name": "stdout",
     "output_type": "stream",
     "text": [
      "R2 score train: 0.9280638746724956\n",
      "R2 score test: 0.776277616416836\n"
     ]
    }
   ],
   "source": [
    "print('R2 score train:', r2_score(train, predict_train))\n",
    "print('R2 score test:', r2_score(test, predict_test))"
   ]
  },
  {
   "cell_type": "code",
   "execution_count": 11,
   "metadata": {},
   "outputs": [
    {
     "name": "stdout",
     "output_type": "stream",
     "text": [
      "Mean Squared error Train: 710392.0\n",
      "Mean Squared error Test:  30729926.0\n"
     ]
    }
   ],
   "source": [
    "print('Mean Squared error Train:', round(mean_squared_error(train, predict_train), 0))\n",
    "print('Mean Squared error Test: ', round(mean_squared_error(test, predict_test), 0))"
   ]
  },
  {
   "cell_type": "code",
   "execution_count": 12,
   "metadata": {},
   "outputs": [],
   "source": [
    "forecast = model.forecast(steps=12)\n",
    "forecast = forecast[6:]"
   ]
  },
  {
   "cell_type": "code",
   "execution_count": 13,
   "metadata": {},
   "outputs": [
    {
     "data": {
      "image/png": "[encoded data removed]",
      "text/plain": [
       "<Figure size 720x360 with 1 Axes>"
      ]
     },
     "metadata": {
      "needs_background": "light"
     },
     "output_type": "display_data"
    }
   ],
   "source": [
    "plt.figure(figsize=(10,5))\n",
    "plt.plot(train.index, train, label='Train')\n",
    "plt.plot(test.index, test, color='y', label='Test')\n",
    "plt.plot(test.index, predict_test, color='g', label='Predict')\n",
    "plt.plot(forecast.index, forecast, color='r', label='Forecast')\n",
    "plt.xlabel('Thời gian')\n",
    "plt.ylabel('Số điểm cháy')\n",
    "plt.title( 'Dự đoán 6 tháng số điểm cháy rừng' ,fontweight='bold', fontsize=14)\n",
    "plt.legend()\n",
    "plt.show()\n",
    "plt.close()"
   ]
  },
  {
   "cell_type": "code",
   "execution_count": null,
   "metadata": {},
   "outputs": [],
   "source": []
  }
 ],
 "metadata": {
  "kernelspec": {
   "display_name": "Python 3",
   "language": "python",
   "name": "python3"
  },
  "language_info": {
   "codemirror_mode": {
    "name": "ipython",
    "version": 3
   },
   "file_extension": ".py",
   "mimetype": "text/x-python",
   "name": "python",
   "nbconvert_exporter": "python",
   "pygments_lexer": "ipython3",
   "version": "3.7.6"
  }
 },
 "nbformat": 4,
 "nbformat_minor": 4
}
