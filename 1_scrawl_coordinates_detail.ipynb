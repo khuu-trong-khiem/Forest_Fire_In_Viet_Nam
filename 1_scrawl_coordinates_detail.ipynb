{
 "cells": [
  {
   "cell_type": "code",
   "execution_count": 1,
   "metadata": {},
   "outputs": [],
   "source": [
    "from selenium import webdriver\n",
    "from bs4 import BeautifulSoup"
   ]
  },
  {
   "cell_type": "code",
   "execution_count": 2,
   "metadata": {},
   "outputs": [],
   "source": [
    "import pandas as pd\n",
    "from time import sleep\n",
    "from lib_parse_data import *"
   ]
  },
  {
   "cell_type": "code",
   "execution_count": 80,
   "metadata": {},
   "outputs": [
    {
     "data": {
      "text/html": [
       "<div>\n",
       "<style scoped>\n",
       "    .dataframe tbody tr th:only-of-type {\n",
       "        vertical-align: middle;\n",
       "    }\n",
       "\n",
       "    .dataframe tbody tr th {\n",
       "        vertical-align: top;\n",
       "    }\n",
       "\n",
       "    .dataframe thead th {\n",
       "        text-align: right;\n",
       "    }\n",
       "</style>\n",
       "<table border=\"1\" class=\"dataframe\">\n",
       "  <thead>\n",
       "    <tr style=\"text-align: right;\">\n",
       "      <th></th>\n",
       "      <th>Name</th>\n",
       "      <th>Link</th>\n",
       "      <th>Tools</th>\n",
       "    </tr>\n",
       "  </thead>\n",
       "  <tbody>\n",
       "    <tr>\n",
       "      <th>0</th>\n",
       "      <td>An Giang</td>\n",
       "      <td>https://vi.wikipedia.org/wiki/An_Giang</td>\n",
       "      <td>//tools.wmflabs.org/geohack/geohack.php?langua...</td>\n",
       "    </tr>\n",
       "    <tr>\n",
       "      <th>1</th>\n",
       "      <td>Bà Rịa - Vũng Tàu</td>\n",
       "      <td>https://vi.wikipedia.org/wiki/B%C3%A0_R%E1%BB%...</td>\n",
       "      <td>//tools.wmflabs.org/geohack/geohack.php?langua...</td>\n",
       "    </tr>\n",
       "    <tr>\n",
       "      <th>2</th>\n",
       "      <td>Bạc Liêu</td>\n",
       "      <td>https://vi.wikipedia.org/wiki/B%E1%BA%A1c_Li%C...</td>\n",
       "      <td>//tools.wmflabs.org/geohack/geohack.php?langua...</td>\n",
       "    </tr>\n",
       "    <tr>\n",
       "      <th>3</th>\n",
       "      <td>Bắc Giang</td>\n",
       "      <td>https://vi.wikipedia.org/wiki/B%E1%BA%AFc_Giang</td>\n",
       "      <td>//tools.wmflabs.org/geohack/geohack.php?langua...</td>\n",
       "    </tr>\n",
       "    <tr>\n",
       "      <th>4</th>\n",
       "      <td>Bắc Kạn</td>\n",
       "      <td>https://vi.wikipedia.org/wiki/B%E1%BA%AFc_K%E1...</td>\n",
       "      <td>//tools.wmflabs.org/geohack/geohack.php?langua...</td>\n",
       "    </tr>\n",
       "  </tbody>\n",
       "</table>\n",
       "</div>"
      ],
      "text/plain": [
       "                Name                                               Link  \\\n",
       "0           An Giang             https://vi.wikipedia.org/wiki/An_Giang   \n",
       "1  Bà Rịa - Vũng Tàu  https://vi.wikipedia.org/wiki/B%C3%A0_R%E1%BB%...   \n",
       "2           Bạc Liêu  https://vi.wikipedia.org/wiki/B%E1%BA%A1c_Li%C...   \n",
       "3          Bắc Giang    https://vi.wikipedia.org/wiki/B%E1%BA%AFc_Giang   \n",
       "4            Bắc Kạn  https://vi.wikipedia.org/wiki/B%E1%BA%AFc_K%E1...   \n",
       "\n",
       "                                               Tools  \n",
       "0  //tools.wmflabs.org/geohack/geohack.php?langua...  \n",
       "1  //tools.wmflabs.org/geohack/geohack.php?langua...  \n",
       "2  //tools.wmflabs.org/geohack/geohack.php?langua...  \n",
       "3  //tools.wmflabs.org/geohack/geohack.php?langua...  \n",
       "4  //tools.wmflabs.org/geohack/geohack.php?langua...  "
      ]
     },
     "execution_count": 80,
     "metadata": {},
     "output_type": "execute_result"
    }
   ],
   "source": [
    "data_url = pd.read_csv('data_original/coordinates/Link_Provinces.csv', index_col=0)\n",
    "data_url.head()"
   ]
  },
  {
   "cell_type": "code",
   "execution_count": 34,
   "metadata": {},
   "outputs": [
    {
     "data": {
      "text/html": [
       "<div>\n",
       "<style scoped>\n",
       "    .dataframe tbody tr th:only-of-type {\n",
       "        vertical-align: middle;\n",
       "    }\n",
       "\n",
       "    .dataframe tbody tr th {\n",
       "        vertical-align: top;\n",
       "    }\n",
       "\n",
       "    .dataframe thead th {\n",
       "        text-align: right;\n",
       "    }\n",
       "</style>\n",
       "<table border=\"1\" class=\"dataframe\">\n",
       "  <thead>\n",
       "    <tr style=\"text-align: right;\">\n",
       "      <th></th>\n",
       "      <th>Name</th>\n",
       "      <th>Link</th>\n",
       "      <th>Tools</th>\n",
       "    </tr>\n",
       "  </thead>\n",
       "  <tbody>\n",
       "    <tr>\n",
       "      <th>0</th>\n",
       "      <td>An Giang</td>\n",
       "      <td>https://vi.wikipedia.org/wiki/An_Giang</td>\n",
       "      <td>//tools.wmflabs.org/geohack/geohack.php?langua...</td>\n",
       "    </tr>\n",
       "    <tr>\n",
       "      <th>1</th>\n",
       "      <td>Bà Rịa - Vũng Tàu</td>\n",
       "      <td>https://vi.wikipedia.org/wiki/B%C3%A0_R%E1%BB%...</td>\n",
       "      <td>//tools.wmflabs.org/geohack/geohack.php?langua...</td>\n",
       "    </tr>\n",
       "    <tr>\n",
       "      <th>2</th>\n",
       "      <td>Bạc Liêu</td>\n",
       "      <td>https://vi.wikipedia.org/wiki/B%E1%BA%A1c_Li%C...</td>\n",
       "      <td>//tools.wmflabs.org/geohack/geohack.php?langua...</td>\n",
       "    </tr>\n",
       "    <tr>\n",
       "      <th>3</th>\n",
       "      <td>Bắc Giang</td>\n",
       "      <td>https://vi.wikipedia.org/wiki/B%E1%BA%AFc_Giang</td>\n",
       "      <td>//tools.wmflabs.org/geohack/geohack.php?langua...</td>\n",
       "    </tr>\n",
       "    <tr>\n",
       "      <th>4</th>\n",
       "      <td>Bắc Kạn</td>\n",
       "      <td>https://vi.wikipedia.org/wiki/B%E1%BA%AFc_K%E1...</td>\n",
       "      <td>//tools.wmflabs.org/geohack/geohack.php?langua...</td>\n",
       "    </tr>\n",
       "  </tbody>\n",
       "</table>\n",
       "</div>"
      ],
      "text/plain": [
       "                Name                                               Link  \\\n",
       "0           An Giang             https://vi.wikipedia.org/wiki/An_Giang   \n",
       "1  Bà Rịa - Vũng Tàu  https://vi.wikipedia.org/wiki/B%C3%A0_R%E1%BB%...   \n",
       "2           Bạc Liêu  https://vi.wikipedia.org/wiki/B%E1%BA%A1c_Li%C...   \n",
       "3          Bắc Giang    https://vi.wikipedia.org/wiki/B%E1%BA%AFc_Giang   \n",
       "4            Bắc Kạn  https://vi.wikipedia.org/wiki/B%E1%BA%AFc_K%E1...   \n",
       "\n",
       "                                               Tools  \n",
       "0  //tools.wmflabs.org/geohack/geohack.php?langua...  \n",
       "1  //tools.wmflabs.org/geohack/geohack.php?langua...  \n",
       "2  //tools.wmflabs.org/geohack/geohack.php?langua...  \n",
       "3  //tools.wmflabs.org/geohack/geohack.php?langua...  \n",
       "4  //tools.wmflabs.org/geohack/geohack.php?langua...  "
      ]
     },
     "execution_count": 34,
     "metadata": {},
     "output_type": "execute_result"
    }
   ],
   "source": [
    "list_tools = []\n",
    "for url in data_url.Link.values:\n",
    "    browser = webdriver.Chrome('D:\\Back Up\\sutrix\\Python\\EXE\\chromedriver.exe')\n",
    "    browser.get(url)\n",
    "    soup = BeautifulSoup(browser.page_source, 'html.parser')\n",
    "    link = soup.find_all('a', attrs={'class':'external text'})[0]['href']\n",
    "    list_tools.append(link)\n",
    "    browser.quit()\n",
    "data_url['Tools'] = list_tools\n",
    "data_url.head()"
   ]
  },
  {
   "cell_type": "code",
   "execution_count": 35,
   "metadata": {},
   "outputs": [],
   "source": [
    "data_url.to_csv('data_original/coordinates/Link_Provinces.csv')"
   ]
  },
  {
   "cell_type": "code",
   "execution_count": 83,
   "metadata": {},
   "outputs": [],
   "source": [
    "import re"
   ]
  },
  {
   "cell_type": "code",
   "execution_count": 84,
   "metadata": {},
   "outputs": [
    {
     "data": {
      "text/html": [
       "<div>\n",
       "<style scoped>\n",
       "    .dataframe tbody tr th:only-of-type {\n",
       "        vertical-align: middle;\n",
       "    }\n",
       "\n",
       "    .dataframe tbody tr th {\n",
       "        vertical-align: top;\n",
       "    }\n",
       "\n",
       "    .dataframe thead th {\n",
       "        text-align: right;\n",
       "    }\n",
       "</style>\n",
       "<table border=\"1\" class=\"dataframe\">\n",
       "  <thead>\n",
       "    <tr style=\"text-align: right;\">\n",
       "      <th></th>\n",
       "      <th>Name</th>\n",
       "      <th>Latitude</th>\n",
       "      <th>Longitude</th>\n",
       "    </tr>\n",
       "  </thead>\n",
       "  <tbody>\n",
       "    <tr>\n",
       "      <th>0</th>\n",
       "      <td>An Giang</td>\n",
       "      <td>10.381116</td>\n",
       "      <td>105.419884</td>\n",
       "    </tr>\n",
       "    <tr>\n",
       "      <th>1</th>\n",
       "      <td>Bà Rịa - Vũng Tàu</td>\n",
       "      <td>10.410157</td>\n",
       "      <td>107.136555</td>\n",
       "    </tr>\n",
       "    <tr>\n",
       "      <th>2</th>\n",
       "      <td>Bạc Liêu</td>\n",
       "      <td>9.312214</td>\n",
       "      <td>105.493469</td>\n",
       "    </tr>\n",
       "    <tr>\n",
       "      <th>3</th>\n",
       "      <td>Bắc Giang</td>\n",
       "      <td>21.274838</td>\n",
       "      <td>106.201583</td>\n",
       "    </tr>\n",
       "    <tr>\n",
       "      <th>4</th>\n",
       "      <td>Bắc Kạn</td>\n",
       "      <td>22.161335</td>\n",
       "      <td>105.830498</td>\n",
       "    </tr>\n",
       "  </tbody>\n",
       "</table>\n",
       "</div>"
      ],
      "text/plain": [
       "                Name   Latitude   Longitude\n",
       "0           An Giang  10.381116  105.419884\n",
       "1  Bà Rịa - Vũng Tàu  10.410157  107.136555\n",
       "2           Bạc Liêu   9.312214  105.493469\n",
       "3          Bắc Giang  21.274838  106.201583\n",
       "4            Bắc Kạn  22.161335  105.830498"
      ]
     },
     "execution_count": 84,
     "metadata": {},
     "output_type": "execute_result"
    }
   ],
   "source": [
    "def getValue(coor):\n",
    "    if(len(coor) >= 1):\n",
    "        return coor[0]\n",
    "    else:\n",
    "        return 0\n",
    "# -------------    \n",
    "list_Latitude = []\n",
    "list_Longitude = []\n",
    "data_coordinates = pd.DataFrame()\n",
    "data_coordinates['Name'] = data_url.Name\n",
    "for url in data_url.Tools.values:\n",
    "    latitude = re.findall('([0-9]+.[0-9]+)_N', url)\n",
    "    longitude = re.findall('([0-9]+.[0-9]+)_E', url)\n",
    "    list_Latitude.append(getValue(latitude))\n",
    "    list_Longitude.append(getValue(longitude))\n",
    "data_coordinates['Latitude'] = list_Latitude\n",
    "data_coordinates['Longitude'] = list_Longitude\n",
    "data_coordinates.head()"
   ]
  },
  {
   "cell_type": "code",
   "execution_count": 86,
   "metadata": {},
   "outputs": [],
   "source": [
    "data_coordinates.to_csv('data_original/coordinates/Coordinates_Provinces.csv')"
   ]
  },
  {
   "cell_type": "code",
   "execution_count": null,
   "metadata": {},
   "outputs": [],
   "source": []
  }
 ],
 "metadata": {
  "kernelspec": {
   "display_name": "Python 3",
   "language": "python",
   "name": "python3"
  },
  "language_info": {
   "codemirror_mode": {
    "name": "ipython",
    "version": 3
   },
   "file_extension": ".py",
   "mimetype": "text/x-python",
   "name": "python",
   "nbconvert_exporter": "python",
   "pygments_lexer": "ipython3",
   "version": "3.7.6"
  }
 },
 "nbformat": 4,
 "nbformat_minor": 4
}
